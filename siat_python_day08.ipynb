{
  "nbformat": 4,
  "nbformat_minor": 0,
  "metadata": {
    "colab": {
      "provenance": [],
      "authorship_tag": "ABX9TyO4fkv80IoPHgz5OJIV3MsH",
      "include_colab_link": true
    },
    "kernelspec": {
      "name": "python3",
      "display_name": "Python 3"
    },
    "language_info": {
      "name": "python"
    }
  },
  "cells": [
    {
      "cell_type": "markdown",
      "metadata": {
        "id": "view-in-github",
        "colab_type": "text"
      },
      "source": [
        "<a href=\"https://colab.research.google.com/github/hannahzzang1/python/blob/main/siat_python_day08.ipynb\" target=\"_parent\"><img src=\"https://colab.research.google.com/assets/colab-badge.svg\" alt=\"Open In Colab\"/></a>"
      ]
    },
    {
      "cell_type": "code",
      "execution_count": null,
      "metadata": {
        "id": "_JksovRYc-Ne"
      },
      "outputs": [],
      "source": [
        "# 함수, 클래스 <모듈 <패키지\n",
        "# 예외란? 프로그램이 동작하면서 만나게되는 예기치 못한 상황 (soft error)\n",
        "# 예외처리\n",
        "# java - Exception\n",
        "# python - Error"
      ]
    },
    {
      "cell_type": "code",
      "source": [
        "print('error')"
      ],
      "metadata": {
        "colab": {
          "base_uri": "https://localhost:8080/"
        },
        "id": "kw9XozWxilRs",
        "outputId": "0ac8e5fd-2a49-4db5-a96c-ab30f6f94ae0"
      },
      "execution_count": null,
      "outputs": [
        {
          "output_type": "stream",
          "name": "stdout",
          "text": [
            "error\n"
          ]
        }
      ]
    },
    {
      "cell_type": "code",
      "source": [
        "# 개발자의 논리적 오류\n",
        "# print(100/0)\n",
        "# lst = [1,2,3]\n",
        "# print(lst[3])"
      ],
      "metadata": {
        "colab": {
          "base_uri": "https://localhost:8080/",
          "height": 183
        },
        "id": "dbpy5gk4i0-I",
        "outputId": "c99a945c-0c2a-4d89-b81e-2b42d3664709"
      },
      "execution_count": null,
      "outputs": [
        {
          "output_type": "error",
          "ename": "IndexError",
          "evalue": "list index out of range",
          "traceback": [
            "\u001b[0;31m---------------------------------------------------------------------------\u001b[0m",
            "\u001b[0;31mIndexError\u001b[0m                                Traceback (most recent call last)",
            "\u001b[0;32m<ipython-input-8-78378b249eeb>\u001b[0m in \u001b[0;36m<cell line: 0>\u001b[0;34m()\u001b[0m\n\u001b[1;32m      2\u001b[0m \u001b[0;31m# print(100/0)\u001b[0m\u001b[0;34m\u001b[0m\u001b[0;34m\u001b[0m\u001b[0m\n\u001b[1;32m      3\u001b[0m \u001b[0mlst\u001b[0m \u001b[0;34m=\u001b[0m \u001b[0;34m[\u001b[0m\u001b[0;36m1\u001b[0m\u001b[0;34m,\u001b[0m\u001b[0;36m2\u001b[0m\u001b[0;34m,\u001b[0m\u001b[0;36m3\u001b[0m\u001b[0;34m]\u001b[0m\u001b[0;34m\u001b[0m\u001b[0;34m\u001b[0m\u001b[0m\n\u001b[0;32m----> 4\u001b[0;31m \u001b[0mprint\u001b[0m\u001b[0;34m(\u001b[0m\u001b[0mlst\u001b[0m\u001b[0;34m[\u001b[0m\u001b[0;36m3\u001b[0m\u001b[0;34m]\u001b[0m\u001b[0;34m)\u001b[0m\u001b[0;34m\u001b[0m\u001b[0;34m\u001b[0m\u001b[0m\n\u001b[0m",
            "\u001b[0;31mIndexError\u001b[0m: list index out of range"
          ]
        }
      ]
    },
    {
      "cell_type": "code",
      "source": [
        "# 숫자대신 문자열을 넣는 경우\n",
        "try :\n",
        "  selectedNum = int(input('숫자를 입력하세요: '))\n",
        "  print('selectedNum-', selectedNum)\n",
        "except Exception as e: # Exception은 모든 error의 부모\n",
        "  print('문자가 아닌 숫자만 입력해주세요')\n",
        "else:\n",
        "  print('감사합니다.')\n",
        "finally:\n",
        "  print('programming exit')"
      ],
      "metadata": {
        "colab": {
          "base_uri": "https://localhost:8080/"
        },
        "id": "4g2f1PVhjRmy",
        "outputId": "f74e8c76-ae40-4028-f7dd-28e19e6fb5c8"
      },
      "execution_count": null,
      "outputs": [
        {
          "output_type": "stream",
          "name": "stdout",
          "text": [
            "숫자를 입력하세요: hannah\n",
            "문자가 아닌 숫자만 입력해주세요\n",
            "programming exit\n"
          ]
        }
      ]
    },
    {
      "cell_type": "code",
      "source": [
        "# 예외처리 구문\n",
        "\"\"\"\n",
        "try : # 예외가 발생될 만한 코드 명시\n",
        "  pass\n",
        "except 발생되는 예외객체 : # 예외발생시 수행 # 다중 사용 가능\n",
        "else: # 예외가 발생하지 않았을 때 수행 (선택)\n",
        "  pass\n",
        "finally: # 예외발생여부와 관계없이 수행되는 문장 (선택)\n",
        "  pass\n",
        "\"\"\""
      ],
      "metadata": {
        "colab": {
          "base_uri": "https://localhost:8080/",
          "height": 35
        },
        "id": "oeXYaBzZkBHX",
        "outputId": "0e7c9dfd-eefd-4151-e579-affa1482e6e8"
      },
      "execution_count": null,
      "outputs": [
        {
          "output_type": "execute_result",
          "data": {
            "text/plain": [
              "'\\ntry : # 예외가 발생될 만한 코드 명시\\n  pass\\nexcept 발생되는 예외객체 : # 예외발생시 수행\\nelse: # 예외가 발생하지 않았을 때 수행\\n  pass\\nfinally: #예외발생여부와 관계없이 수행되는 문장\\n  pass\\n'"
            ],
            "application/vnd.google.colaboratory.intrinsic+json": {
              "type": "string"
            }
          },
          "metadata": {},
          "execution_count": 23
        }
      ]
    },
    {
      "cell_type": "code",
      "source": [
        "lst    = ['10','20', 'jslim','30']\n",
        "result = []\n",
        "\n",
        "\n",
        "for item in lst:\n",
        "  try:\n",
        "    result.append(float(item))\n",
        "  except Exception as e:\n",
        "    print('예외발생')\n",
        "\n",
        "print(result)\n",
        "print('exit')"
      ],
      "metadata": {
        "colab": {
          "base_uri": "https://localhost:8080/"
        },
        "id": "smE8eHpvra_W",
        "outputId": "f786601e-3787-4535-fe66-6f52b4805f7c"
      },
      "execution_count": null,
      "outputs": [
        {
          "output_type": "stream",
          "name": "stdout",
          "text": [
            "예외발생\n",
            "[10.0, 20.0, 30.0]\n",
            "exit\n"
          ]
        }
      ]
    },
    {
      "cell_type": "code",
      "source": [
        "#Quiz\n",
        "# 아래 함수를 구현하시오\n",
        "# input 함수를 이용해서 나이를 입력받고\n",
        "# 입력받은 나이를 출력하시오\n",
        "\n",
        "def userInput():\n",
        "# age = 0 # 함수 전역 접근 가능\n",
        "  try:\n",
        "    age = int(input('나이를 입력하시오:')) #try 안에 있으면 age는 지역변수\n",
        "    print('your age is {} years old'.format(age))\n",
        "  except Exception as e:\n",
        "    userInput() #재귀함수\n"
      ],
      "metadata": {
        "id": "98ORNgtkv7CA"
      },
      "execution_count": null,
      "outputs": []
    },
    {
      "cell_type": "code",
      "source": [
        "# calling\n",
        "userInput()\n",
        "print('>>>exit<<<')\n",
        "\n"
      ],
      "metadata": {
        "colab": {
          "base_uri": "https://localhost:8080/"
        },
        "id": "55AVP0g2xG-I",
        "outputId": "605a3842-f8cf-40a7-9011-1cbf67ce19ba"
      },
      "execution_count": null,
      "outputs": [
        {
          "output_type": "stream",
          "name": "stdout",
          "text": [
            "나이를 입력하시오:2\n",
            "your age is 2 years old\n",
            ">>>exit<<<\n"
          ]
        }
      ]
    },
    {
      "cell_type": "code",
      "source": [
        "count = 0\n",
        "while count < 1:\n",
        "  try:\n",
        "    age = int(input('나이를 입력하세요: '))\n",
        "    count = count +1\n",
        "  except Exception as e:\n",
        "    print('다시하시오')\n",
        "else:\n",
        "  print(age)"
      ],
      "metadata": {
        "colab": {
          "base_uri": "https://localhost:8080/"
        },
        "id": "cuan_Mvz18rg",
        "outputId": "6d14c9a3-b11a-4ac5-b9d6-75d94cb052d9"
      },
      "execution_count": null,
      "outputs": [
        {
          "output_type": "stream",
          "name": "stdout",
          "text": [
            "나이를 입력하세요: 5\n",
            "5\n"
          ]
        }
      ]
    },
    {
      "cell_type": "code",
      "source": [
        "count = 0\n",
        "try:\n",
        "  while count < 1:\n",
        "    age = int(input('나이를 입력하세요: '))\n",
        "    count = count +1\n",
        "except Exception as e:\n",
        "  print('실패')"
      ],
      "metadata": {
        "colab": {
          "base_uri": "https://localhost:8080/"
        },
        "id": "p511R-xVDt5J",
        "outputId": "3c2d8ea3-3014-4eca-a8dc-033501d745bb"
      },
      "execution_count": null,
      "outputs": [
        {
          "name": "stdout",
          "output_type": "stream",
          "text": [
            "나이를 입력하세요: 5\n"
          ]
        }
      ]
    },
    {
      "cell_type": "code",
      "source": [
        "def listEcepFunc(userLst):\n",
        "  pass"
      ],
      "metadata": {
        "id": "0qazgW2xxWcY"
      },
      "execution_count": null,
      "outputs": []
    },
    {
      "cell_type": "code",
      "source": [
        "# Quiz\n",
        "# 매개변수로 넘겨 받은 각 첨자번지의 값에 제곱한 결과를 출력하고 한다.\n",
        "# 예외 발생을 확인하고 예외처리 구문을 추가하여\n",
        "# 정상적인 흐름의 함수 호출이 되도록 만들어 보시오\n",
        "\n",
        "def listExcepFunc(userLst):\n",
        "  print('raw data-', userLst, type(userLst))\n",
        "  for i in lst:\n",
        "    try :\n",
        "      print(int(i)**2)\n",
        "    except Exception as e :\n",
        "      print(str(e))"
      ],
      "metadata": {
        "id": "EmnyL4ND5l2S"
      },
      "execution_count": null,
      "outputs": []
    },
    {
      "cell_type": "code",
      "source": [
        "# calling\n",
        "lst = ['10','20', 'jslim', '30']\n",
        "listExcepFunc(lst)"
      ],
      "metadata": {
        "colab": {
          "base_uri": "https://localhost:8080/"
        },
        "id": "eDWJzWqT6SKh",
        "outputId": "cbc1c050-73fc-4f08-f041-b85b25cad734"
      },
      "execution_count": null,
      "outputs": [
        {
          "output_type": "stream",
          "name": "stdout",
          "text": [
            "raw data- ['10', '20', 'jslim', '30'] <class 'list'>\n",
            "100\n",
            "400\n",
            "invalid literal for int() with base 10: 'jslim'\n",
            "900\n"
          ]
        }
      ]
    },
    {
      "cell_type": "code",
      "source": [
        "# class UserException(Exception):\n",
        "#   def _init_(self, msg):\n",
        "#     self.msg = msg\n",
        "\n",
        "# def positiveDivide(x,y):\n",
        "#   if (y<=0):\n",
        "#     raise UserException('0 또는 음수로 나눌 수 없습니다.')\n",
        "#   return x /y\n",
        "\n",
        "def positiveDivide(x,y):\n",
        "  if (y<=0):\n",
        "    raise ZeroDivisionError('0 또는 음수로 나눌 수 없습니다.')\n",
        "\n",
        "  return x/y # return은 내가 함수를 호출한 구문에서 변수 설정을 해줘야만 반환값을 받을 수 있다.\n"
      ],
      "metadata": {
        "id": "GocCXscM-Y1y"
      },
      "execution_count": null,
      "outputs": []
    },
    {
      "cell_type": "code",
      "source": [
        "# calling\n",
        "try:\n",
        "  # result 는 positiveDivide 함수에서 값을 받기 위한 변수다\n",
        "  # result = positiveDivide는 함수 호출을 위한 구문이며\n",
        "  # positive 함수에서 result 값에 반환하여 result 값을 메인에서 사용할 수 있ㄱㄱ[ 된다]\n",
        "  result = positiveDivide(10,-1)\n",
        "except Exception as e:\n",
        "  print(str(e))\n",
        "else:\n",
        "  print(result)\n",
        "finally:\n",
        "  print('>>>>exit<<<<')"
      ],
      "metadata": {
        "colab": {
          "base_uri": "https://localhost:8080/"
        },
        "id": "iUPJtun8-g-X",
        "outputId": "8ac2779d-b4f1-4094-a689-34be488b5e3d"
      },
      "execution_count": null,
      "outputs": [
        {
          "output_type": "stream",
          "name": "stdout",
          "text": [
            "0 또는 음수로 나눌 수 없습니다.\n",
            ">>>>exit<<<<\n"
          ]
        }
      ]
    },
    {
      "cell_type": "code",
      "source": [
        "# 파일 처리\n",
        "# open(파일경로, 모드, 인코딩)\n",
        "file = open('greeting.txt', mode ='r', encoding='utf-8')\n",
        "print('type-',type(file))\n",
        "print(file)\n",
        "print(file.read())\n",
        "print ()"
      ],
      "metadata": {
        "colab": {
          "base_uri": "https://localhost:8080/"
        },
        "id": "pTpVhyDXGv93",
        "outputId": "b41ef513-ef18-4095-ff93-d62895f42c9e"
      },
      "execution_count": null,
      "outputs": [
        {
          "output_type": "stream",
          "name": "stdout",
          "text": [
            "type- <class '_io.TextIOWrapper'>\n",
            "<_io.TextIOWrapper name='greeting.txt' mode='r' encoding='utf-8'>\n",
            "오늘은 목요일입니다.\n",
            "파이썬이 내일이면 끝나요.\n",
            "너무 재미있게 배우고 있는데 아쉽네요.\n",
            "\n"
          ]
        }
      ]
    },
    {
      "cell_type": "code",
      "source": [
        "# input 함수를 이용해서\n",
        "# 사용자가 작성한 문자를 입력받고\n",
        "# lunch.txt 파일로 저장하려고 한다.\n",
        "# 사용자가 입력한 문자가 exit 이면 입력을 멈추고 종료한다.\n",
        "\n",
        "def fileWriter():\n",
        "  isFlag = True #Q\n",
        "  file = open('/content/lunch.txt', 'w', encoding='utf-8')\n",
        "  while isFlag: #Q\n",
        "    str = input(\"문자를 입력하시오: \")\n",
        "    if str == 'exit':\n",
        "      isFlag = False\n",
        "      # break\n",
        "    else:\n",
        "      #print(str)\n",
        "      file.write(str+\"\\n\")"
      ],
      "metadata": {
        "id": "IInPcKFzLuRX"
      },
      "execution_count": null,
      "outputs": []
    },
    {
      "cell_type": "code",
      "source": [
        "# calling\n",
        "fileWriter()\n"
      ],
      "metadata": {
        "colab": {
          "base_uri": "https://localhost:8080/"
        },
        "id": "fWM7XzbGLe41",
        "outputId": "4f7090f7-8bd3-4927-fa88-34556f1ace38"
      },
      "execution_count": null,
      "outputs": [
        {
          "name": "stdout",
          "output_type": "stream",
          "text": [
            "문자를 입력하시오: c\n",
            "문자를 입력하시오: c\n",
            "문자를 입력하시오: exit\n"
          ]
        }
      ]
    },
    {
      "cell_type": "code",
      "source": [
        "# open()\n",
        "# with open() as file:\n",
        "# 자동으로 파일객체를 닫아주기 때문에\n",
        "\n",
        "with open('greeting.txt', 'r') as file:\n",
        "  # txt = file.read()\n",
        "  # txt = file.readline()\n",
        "  # print('type-', type(txt))\n",
        "  line = None\n",
        "  while line != '' :\n",
        "    line = file.readline()\n",
        "    print(line.strip('\\n'))"
      ],
      "metadata": {
        "colab": {
          "base_uri": "https://localhost:8080/"
        },
        "id": "eLE8E1cWOYLe",
        "outputId": "1290e8f8-01d7-4316-b679-c292a69caace"
      },
      "execution_count": null,
      "outputs": [
        {
          "output_type": "stream",
          "name": "stdout",
          "text": [
            "오늘은 목요일입니다.\n",
            "파이썬이 내일이면 끝나요.\n",
            "너무 재미있게 배우고 있는데 아쉽네요.\n",
            "\n"
          ]
        }
      ]
    },
    {
      "cell_type": "code",
      "source": [
        "# cnt_words.txt 파일을 읽어들인 후\n",
        "# 단어의 길이가 10 이하인 단어들만 카운팅 해 출력하시오.\n",
        "\n",
        "def cntFunc(fileName):\n",
        "  with open(fileName, 'r') as file:\n",
        "    cnt = 0\n",
        "    for line in file :\n",
        "      if len(line.strip('\\n')) <= 10:\n",
        "        cnt +=1\n",
        "    print('단어의 길이가 10 이하인 수는 {}입니다'.format(cnt))"
      ],
      "metadata": {
        "id": "ocQt58q6n8O5"
      },
      "execution_count": null,
      "outputs": []
    },
    {
      "cell_type": "code",
      "source": [
        "cntFunc(\"cnt_words.txt\")"
      ],
      "metadata": {
        "colab": {
          "base_uri": "https://localhost:8080/"
        },
        "id": "biLdywD_reeC",
        "outputId": "5d21acdb-ef90-4068-9edc-7e0370eae332"
      },
      "execution_count": null,
      "outputs": [
        {
          "output_type": "stream",
          "name": "stdout",
          "text": [
            "단어의 길이가 10 이하인 수는 4입니다\n"
          ]
        }
      ]
    },
    {
      "cell_type": "code",
      "source": [
        "# special_words.txt 파일을 읽어들인 후\n",
        "# 단어의 문자로 'c'포함된 단어를 출력한다면?\n",
        "# hint - strip(',.')\n",
        "\n",
        "def includeCharFunc(fileName):\n",
        "  with open(fileName, 'r') as file:\n",
        "    lst = file.read().split() #Q\n",
        "    lst = [str.strip(',.') for str in lst] #list comprehension #list를 재정의\n",
        "    # llst = []\n",
        "    # for sstr in lst:\n",
        "    #   llst.append(sstr.strip(',.'))\n",
        "\n",
        "    for word in lst:\n",
        "      if 'c' in word:\n",
        "        print(word)"
      ],
      "metadata": {
        "id": "jR5rhpJOr9YE"
      },
      "execution_count": null,
      "outputs": []
    },
    {
      "cell_type": "code",
      "source": [
        "includeCharFunc('special_words.txt')"
      ],
      "metadata": {
        "colab": {
          "base_uri": "https://localhost:8080/"
        },
        "id": "7CJ_aE2awUe5",
        "outputId": "f956239d-d122-4eaa-97bf-067a37a472dd"
      },
      "execution_count": null,
      "outputs": [
        {
          "output_type": "stream",
          "name": "stdout",
          "text": [
            "dictator\n",
            "subjects\n",
            "change\n",
            "costume\n",
            "elegance\n",
            "accepted\n"
          ]
        }
      ]
    },
    {
      "cell_type": "code",
      "source": [],
      "metadata": {
        "id": "_B8tKaq0Kffc"
      },
      "execution_count": null,
      "outputs": []
    }
  ]
}