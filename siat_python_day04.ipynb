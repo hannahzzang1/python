{
  "nbformat": 4,
  "nbformat_minor": 0,
  "metadata": {
    "colab": {
      "provenance": [],
      "authorship_tag": "ABX9TyOr1SqmVedRRQq5VplCVBp+",
      "include_colab_link": true
    },
    "kernelspec": {
      "name": "python3",
      "display_name": "Python 3"
    },
    "language_info": {
      "name": "python"
    }
  },
  "cells": [
    {
      "cell_type": "markdown",
      "metadata": {
        "id": "view-in-github",
        "colab_type": "text"
      },
      "source": [
        "<a href=\"https://colab.research.google.com/github/hannahzzang1/python/blob/main/siat_python_day04.ipynb\" target=\"_parent\"><img src=\"https://colab.research.google.com/assets/colab-badge.svg\" alt=\"Open In Colab\"/></a>"
      ]
    },
    {
      "cell_type": "code",
      "execution_count": null,
      "metadata": {
        "colab": {
          "base_uri": "https://localhost:8080/"
        },
        "id": "tPedJO9EjzuJ",
        "outputId": "6f1d810a-409f-4b96-972d-0b51d66392e8"
      },
      "outputs": [
        {
          "output_type": "stream",
          "name": "stdout",
          "text": [
            "이름을 입력하세요 :\n",
            "eunjung\n",
            "name - eunjung <class 'str'>\n"
          ]
        }
      ],
      "source": [
        "# 파이썬의 사용자 입력함수\n",
        "# input() -> STR(문자열) 반환\n",
        "print('이름을 입력하세요 :')\n",
        "name = input()\n",
        "print('name -', name, type(name))"
      ]
    },
    {
      "cell_type": "code",
      "source": [
        "name = input('이름을 입력하세요 :')\n",
        "print('name -', name, type(name))\n",
        "age = int(input('나이를 입력하세요 : '))\n",
        "print('age - ', age, type(age))\n",
        "height = float(input('키를 입력하세요 : '))\n",
        "print('height -', height, type(height))"
      ],
      "metadata": {
        "colab": {
          "base_uri": "https://localhost:8080/"
        },
        "id": "A9lVcscLmut5",
        "outputId": "5167db0e-eadc-4fef-cb3d-1ebfc90f06ec"
      },
      "execution_count": null,
      "outputs": [
        {
          "output_type": "stream",
          "name": "stdout",
          "text": [
            "이름을 입력하세요 :eunjung\n",
            "name - eunjung <class 'str'>\n",
            "나이를 입력하세요 : 20\n",
            "age -  20 <class 'int'>\n",
            "키를 입력하세요 : 160\n",
            "height - 160.0 <class 'float'>\n"
          ]
        }
      ]
    },
    {
      "cell_type": "code",
      "source": [
        "# boolean type\n",
        "# True | False\n",
        "# '', [], (), {}, None -> False\n",
        "\n",
        "tmpLst =[]\n",
        "tmpStr = ''\n",
        "print('boolean -', bool(tmpLst), bool(tmpStr))"
      ],
      "metadata": {
        "colab": {
          "base_uri": "https://localhost:8080/"
        },
        "id": "OHExoGZ3oHNh",
        "outputId": "012f8fcf-8bea-4a73-e1c9-4fb1bbbdf292"
      },
      "execution_count": null,
      "outputs": [
        {
          "output_type": "stream",
          "name": "stdout",
          "text": [
            "boolean - False False\n"
          ]
        }
      ]
    },
    {
      "cell_type": "code",
      "source": [
        "isFlag = True\n",
        "print('boolean casting - ', int(isFlag))\n",
        "\n",
        "isFlag = False\n",
        "print('boolean casting - ', int(isFlag))"
      ],
      "metadata": {
        "colab": {
          "base_uri": "https://localhost:8080/"
        },
        "id": "f47eRQPdp92h",
        "outputId": "a21e08ac-36fd-408f-edcf-233fd14d1e96"
      },
      "execution_count": null,
      "outputs": [
        {
          "output_type": "stream",
          "name": "stdout",
          "text": [
            "boolean casting -  1\n",
            "boolean casting -  0\n"
          ]
        }
      ]
    },
    {
      "cell_type": "code",
      "source": [
        "# boolean -  논리연산자(not, and, or), 비교연산자(&, |, ~)\n",
        "x = 5\n",
        "y = 0\n",
        "print ( x & y, bool (x & y)) # 0101 & 0000 => 0000 => 0\n",
        "print ( x | y, bool (x | y))"
      ],
      "metadata": {
        "colab": {
          "base_uri": "https://localhost:8080/"
        },
        "id": "zgz1o3pSrJAo",
        "outputId": "1ead014e-605a-4ef8-e3de-b534f62b0eb5"
      },
      "execution_count": null,
      "outputs": [
        {
          "output_type": "stream",
          "name": "stdout",
          "text": [
            "0 False\n",
            "5 True\n"
          ]
        }
      ]
    },
    {
      "cell_type": "code",
      "source": [
        "x = True\n",
        "y = False\n",
        "print ( x & y, int (x & y))\n",
        "print ( x | y, int (x | y))"
      ],
      "metadata": {
        "colab": {
          "base_uri": "https://localhost:8080/"
        },
        "id": "1_MJyT-uyfT0",
        "outputId": "960056a9-2e5a-4efa-9912-34a11942fc5a"
      },
      "execution_count": null,
      "outputs": [
        {
          "output_type": "stream",
          "name": "stdout",
          "text": [
            "False 0\n",
            "True 1\n"
          ]
        }
      ]
    },
    {
      "cell_type": "code",
      "source": [
        "# 제어구문\n",
        "# if  조건식 :\n",
        "# 들여쓰기 (indent)\n",
        "\n",
        "tmpLst = [1]\n",
        "if tmpLst :\n",
        "  print('pass')\n",
        "else :\n",
        "  print('fail')\n",
        "\n",
        "tmpLst = []\n",
        "if tmpLst :\n",
        "  print('pass')\n",
        "else :\n",
        "  print('fail')"
      ],
      "metadata": {
        "colab": {
          "base_uri": "https://localhost:8080/"
        },
        "id": "F_aSpybgzAj8",
        "outputId": "0102bf6e-3e16-423a-9a3a-00b4f0b7e13d"
      },
      "execution_count": null,
      "outputs": [
        {
          "output_type": "stream",
          "name": "stdout",
          "text": [
            "pass\n",
            "fail\n"
          ]
        }
      ]
    },
    {
      "cell_type": "code",
      "source": [
        "# Quiz\n",
        "# input() 함수를 이용해서 사용자의 점수를 입력받고 60점 이상이면 패스, 아니면 과락을 출력하시오\n",
        "\n",
        "score = int(input(\"점수를 입력 : \"))\n",
        "if score >=60 :\n",
        "  print('pass')\n",
        "else :\n",
        "  print('fail')"
      ],
      "metadata": {
        "colab": {
          "base_uri": "https://localhost:8080/"
        },
        "id": "N_mTdl2kz86G",
        "outputId": "b8913bd6-8be8-4985-dda7-425275e935d9"
      },
      "execution_count": null,
      "outputs": [
        {
          "output_type": "stream",
          "name": "stdout",
          "text": [
            "점수를 입력 : 60\n",
            "pass\n"
          ]
        }
      ]
    },
    {
      "cell_type": "code",
      "source": [
        "# Quiz\n",
        "# region 이 areas 에 있는 지역인지 아닌지를 판단하고 싶다면?\n",
        "# if ~ in\n",
        "areas = ['서울', '부산', '서산', '광주']\n",
        "region = '수원'\n",
        "\n",
        "if region in areas :\n",
        "  print('yes')\n",
        "else :\n",
        "  print('no')\n",
        "\n",
        "\n"
      ],
      "metadata": {
        "colab": {
          "base_uri": "https://localhost:8080/"
        },
        "id": "dKBPqMjn1det",
        "outputId": "f170aff2-46a3-4ba7-f0f2-516c307a16af"
      },
      "execution_count": null,
      "outputs": [
        {
          "output_type": "stream",
          "name": "stdout",
          "text": [
            "no\n"
          ]
        }
      ]
    },
    {
      "cell_type": "code",
      "source": [
        "# Quiz\n",
        "# region 이 areas 에 키로 존재하는지를 판단하고 싶다면?\n",
        "# if ~ in\n",
        "areas = {'서울' : 100 , '부산' : 200 , '서산' : 300 , '광주' : 400}\n",
        "region = '수원'\n",
        "\n",
        "if region in areas :\n",
        "  print('yes')\n",
        "else :\n",
        "  print('no')"
      ],
      "metadata": {
        "colab": {
          "base_uri": "https://localhost:8080/"
        },
        "id": "oVAD5Gdt3tjd",
        "outputId": "8c283f90-dde3-40c7-b954-d291cb69f746"
      },
      "execution_count": null,
      "outputs": [
        {
          "output_type": "stream",
          "name": "stdout",
          "text": [
            "no\n"
          ]
        }
      ]
    },
    {
      "cell_type": "code",
      "source": [
        "# Quiz\n",
        "# 윤년(Leap year)\n",
        "# 4의 배수이고 100의 배수가 아니거나 400의 배수일 때\n",
        "# input 함수를 이용해서 년도를 입력받고\n",
        "# 해당년도가 윤년인지 아닌지를 판단하고 싶다면?\n",
        "\n",
        "year = int(input())\n",
        "if (year%4==0 and year%100!=0) or (year%400==0) :\n",
        "  print('Leap year')\n",
        "else :\n",
        "  print('not Leap year')"
      ],
      "metadata": {
        "colab": {
          "base_uri": "https://localhost:8080/"
        },
        "id": "WeBaXJn65cYM",
        "outputId": "ac58f9e1-b756-47b9-9362-2e9796147d09"
      },
      "execution_count": null,
      "outputs": [
        {
          "output_type": "stream",
          "name": "stdout",
          "text": [
            "2025\n",
            "not Leap year\n"
          ]
        }
      ]
    },
    {
      "cell_type": "code",
      "source": [
        "# input 함수를 이용해서 년도와 월을 입력받아\n",
        "# 해당년도가 윤년일 경우 2월달의 마지막은 29일, 평년일경우 마지막일은 28일\n",
        "# 출력예시) xxxx년 x월의 마지막일은 xx일 입니다.\n",
        "\n",
        "year = int(input(\"년도 입력 :\"))\n",
        "month = int(input(\"월 입력 :\"))\n",
        "print('년도 :{}, 월 {}'. format(year, month))\n",
        "print()\n",
        "\n",
        "yearMonth = [31, 28, 31, 30, 31, 30, 31, 31, 30, 31, 30, 31]\n",
        "leapMonth = [31, 28, 31, 30, 31, 30, 31, 31, 30, 31, 30, 31]\n",
        "\n",
        "if (year%4==0 and year%100!=0) or (year%400==0) :\n",
        "  print('{} 년 {}월의 마지막일은 {}일 입니다.' .format(year, month, leapMonth[month -1]))\n",
        "else :\n",
        "  print('{} 년 {}월의 마지막일은 {}일 입니다.' .format(year, month, yearMonth[month -1]))\n"
      ],
      "metadata": {
        "colab": {
          "base_uri": "https://localhost:8080/"
        },
        "id": "PfptQijHBYKk",
        "outputId": "306bf348-1dea-464f-a61c-976462ffbedc"
      },
      "execution_count": null,
      "outputs": [
        {
          "output_type": "stream",
          "name": "stdout",
          "text": [
            "년도 입력 :2025\n",
            "월 입력 :5\n",
            "년도 :2025, 월 5\n",
            "\n",
            "2025 년 5월의 마지막일은 31일 입니다.\n"
          ]
        }
      ]
    },
    {
      "cell_type": "code",
      "source": [
        "year = int(input(\"년도 입력 :\"))\n",
        "month = int(input(\"월 입력 :\"))\n",
        "print('년도 :{}, 월 {}'. format(year, month))\n",
        "print()\n",
        "\n",
        "months = [31, 28, 31, 30, 31, 30, 31, 31, 30, 31, 30, 31]\n",
        "\n",
        "if (year%4==0 and year%100!=0) or (year%400==0) :\n",
        "    if month ==2 :\n",
        "      print('{} 년 {}월의 마지막일은 {}일 입니다'. format(year, month, months[month -1]+1))\n",
        "    else:\n",
        "      print('{} 년 {}월의 마지막일은 {}일 입니다'. format(year, month, months[month -1]))\n",
        "else :\n",
        "  print('{} 년 {}월의 마지막일은 {}일 입니다.' .format(year, month, months[month -1]))\n"
      ],
      "metadata": {
        "colab": {
          "base_uri": "https://localhost:8080/"
        },
        "id": "4NOEFjkeHx5i",
        "outputId": "316176c2-f87d-48bf-e6ad-8ca88d82d9a6"
      },
      "execution_count": null,
      "outputs": [
        {
          "output_type": "stream",
          "name": "stdout",
          "text": [
            "년도 입력 :2025\n",
            "월 입력 :2\n",
            "년도 :2025, 월 2\n",
            "\n",
            "2025 년 2월의 마지막일은 28일 입니다.\n"
          ]
        }
      ]
    },
    {
      "cell_type": "code",
      "source": [
        "year = int(input(\"년도 입력 :\"))\n",
        "month = int(input(\"월 입력 :\"))\n",
        "print('년도 :{}, 월 {}'. format(year, month))\n",
        "print()\n",
        "\n",
        "months = [31, 28, 31, 30, 31, 30, 31, 31, 30, 31, 30, 31]\n",
        "\n",
        "if (year%4==0 and year%100!=0)  :\n",
        "    if month ==2 :\n",
        "      print('{} 년 {}월의 마지막일은 {}일 입니다'. format(year, month, months[month -1]+1))\n",
        "    else:\n",
        "      print('{} 년 {}월의 마지막일은 {}일 입니다'. format(year, month, months[month -1]))\n",
        "elif (year%400==0) :\n",
        "    if month ==2 :\n",
        "      print('{} 년 {}월의 마지막일은 {}일 입니다'. format(year, month, months[month -1]+1))\n",
        "    else:\n",
        "      print('{} 년 {}월의 마지막일은 {}일 입니다'. format(year, month, months[month -1]))\n",
        "else:\n",
        "  print('{} 년 {}월의 마지막일은 {}일 입니다.' .format(year, month, months[month -1]))\n"
      ],
      "metadata": {
        "colab": {
          "base_uri": "https://localhost:8080/"
        },
        "id": "dUljS7RGKQ2w",
        "outputId": "d3ecb2ee-23fd-47fa-f45b-a0a325368c06"
      },
      "execution_count": null,
      "outputs": [
        {
          "output_type": "stream",
          "name": "stdout",
          "text": [
            "년도 입력 :2025\n",
            "월 입력 :5\n",
            "년도 :2025, 월 5\n",
            "\n",
            "2025 년 5월의 마지막일은 31일 입니다.\n"
          ]
        }
      ]
    },
    {
      "cell_type": "code",
      "source": [
        "# 중첩 조건문\n",
        "# 등급이 A 이고, 평균이 95점 이상이면 장학금 100% 이하면 90% 장학금\n",
        "\n",
        "grade = 'A'\n",
        "avg = 91\n",
        "\n",
        "if grade == 'A':\n",
        "  if avg >= 95 :\n",
        "    print('장학금 100%')\n",
        "  else :\n",
        "    print('장학금 90%')"
      ],
      "metadata": {
        "colab": {
          "base_uri": "https://localhost:8080/"
        },
        "id": "J6K-JehiOtH2",
        "outputId": "fd51a333-76be-4955-c6b7-d698ee7242b0"
      },
      "execution_count": null,
      "outputs": [
        {
          "output_type": "stream",
          "name": "stdout",
          "text": [
            "장학금 90%\n"
          ]
        }
      ]
    },
    {
      "cell_type": "code",
      "source": [
        "# 다중 조건문\n",
        "# if ~ elif ~ elif ~ elif ~ else\n",
        "# Quiz\n",
        "# 학생의 총점을 입력받아서\n",
        "# 100 ~ 85 이면 우수, 84~70 이면 보통, 69이하면 저조\n",
        "# 이렇게 판단하고 싶다면?\n",
        "\n",
        "score = int(input(\"점수를 입력하시오 :\"))\n",
        "if score <=100 & score >=85 :\n",
        "  print ('우수')\n",
        "elif score >=84 & score <=70 :\n",
        "  print ('보통')\n",
        "elif score <=69 :\n",
        "  print ('저조')\n",
        "\n"
      ],
      "metadata": {
        "colab": {
          "base_uri": "https://localhost:8080/"
        },
        "id": "g7wvd2QePuIn",
        "outputId": "b1e1d641-9c67-429a-89a2-814f370ee95f"
      },
      "execution_count": null,
      "outputs": [
        {
          "output_type": "stream",
          "name": "stdout",
          "text": [
            "점수를 입력하시오 :50\n",
            "보통\n"
          ]
        }
      ]
    },
    {
      "cell_type": "code",
      "source": [
        "score = int(input(\"점수를 입력하시오 :\"))\n",
        "grade = ''\n",
        "if score <=100 and score >=85 :\n",
        "  grade = '우수'\n",
        "elif score >=84 and score <=70 :\n",
        "  grade = '보통'\n",
        "else :\n",
        "  grade = '저조'\n",
        "\n",
        "print('당신의 점수는 %d점 이고, 등급은 %s 입니다.' % (score, grade))"
      ],
      "metadata": {
        "colab": {
          "base_uri": "https://localhost:8080/"
        },
        "id": "J2PBSqp1UXrr",
        "outputId": "fc1c50db-ee85-478a-edca-9a8ae671e3f5"
      },
      "execution_count": null,
      "outputs": [
        {
          "output_type": "stream",
          "name": "stdout",
          "text": [
            "점수를 입력하시오 :50\n",
            "당신의 점수는 50점 이고, 등급은 저조 입니다.\n"
          ]
        }
      ]
    },
    {
      "cell_type": "code",
      "source": [
        "# Quiz (중첩)\n",
        "# 학생의 학점과 점수를 입력받아서\n",
        "# A학점이면서 90 이상이면 장학금 100%\n",
        "# A학점이면서 80 이상이면 장학금 80%\n",
        "# A학점이면서 80 미만이면 장학금 70%\n",
        "# A학점이 아니면 장학금 50%\n",
        "# 셀나누기 = ctrl  + n + -\n",
        "\n",
        "grade = (input(\"학점을 입력하시오 :\"))\n",
        "score = int(input(\"점수를 입력하시오 :\"))\n",
        "if grade == 'A' :\n",
        "  if score >= 90 :\n",
        "    print ('장학금 100%')\n",
        "  elif score >= 80 :\n",
        "    print ('장학금 80%')\n",
        "  else:\n",
        "    print ('장학금 70%')\n",
        "else:\n",
        "  print ('장학금 50%')"
      ],
      "metadata": {
        "colab": {
          "base_uri": "https://localhost:8080/"
        },
        "id": "fVjYNFWTRjbK",
        "outputId": "fa0527d5-e636-41ea-fa59-26fadbfc5ef7"
      },
      "execution_count": null,
      "outputs": [
        {
          "output_type": "stream",
          "name": "stdout",
          "text": [
            "학점을 입력하시오 :A\n",
            "점수를 입력하시오 :50\n",
            "장학금 70%\n"
          ]
        }
      ]
    },
    {
      "cell_type": "code",
      "source": [
        "a= 100\n",
        "b= 50\n",
        "result = a+b\n",
        "print(result)\n",
        "print(a, '+', b ,'=', result)"
      ],
      "metadata": {
        "colab": {
          "base_uri": "https://localhost:8080/"
        },
        "id": "s3iZrrnSSWLY",
        "outputId": "87ee95a2-c086-4edd-c51d-cb471e8233fb"
      },
      "execution_count": null,
      "outputs": [
        {
          "output_type": "stream",
          "name": "stdout",
          "text": [
            "150\n",
            "100 + 50 = 150\n"
          ]
        }
      ]
    },
    {
      "cell_type": "code",
      "source": [
        "a,b,c,d=0,0,0,0\n",
        "hap = 0\n",
        "\n",
        "a= int(input(\"1번째 숫자 : \"))\n",
        "b= int(input(\"2번째 숫자 : \"))\n",
        "c= int(input(\"3번째 숫자 : \"))\n",
        "d= int(input(\"4번째 숫자 : \"))\n",
        "\n",
        "hap = a+b+c+d\n",
        "print (\"합계 ==> %d\" %hap)"
      ],
      "metadata": {
        "colab": {
          "base_uri": "https://localhost:8080/"
        },
        "id": "6xcckeAKhceo",
        "outputId": "237a3577-4c82-4dda-a9f3-fc87e0b391f7"
      },
      "execution_count": null,
      "outputs": [
        {
          "output_type": "stream",
          "name": "stdout",
          "text": [
            "1번째 숫자 : 2\n",
            "2번째 숫자 : 5\n",
            "3번째 숫자 : 7\n",
            "4번째 숫자 : 9\n",
            "합계 ==> 23\n"
          ]
        }
      ]
    },
    {
      "cell_type": "code",
      "source": [
        "aa= []\n",
        "for i in range(0,100):\n",
        "  aa.append(0)\n",
        "len(aa)"
      ],
      "metadata": {
        "colab": {
          "base_uri": "https://localhost:8080/"
        },
        "id": "VDPodJDZmzOP",
        "outputId": "2e94a592-97c1-494a-beae-9125f5225de5"
      },
      "execution_count": null,
      "outputs": [
        {
          "output_type": "execute_result",
          "data": {
            "text/plain": [
              "100"
            ]
          },
          "metadata": {},
          "execution_count": 7
        }
      ]
    },
    {
      "cell_type": "code",
      "source": [
        "# 삼항연산자\n",
        "# 조건식, 참, 거짓\n",
        "# 형식) 참 if (조건식) else 거짓\n",
        "\n",
        "data = 9\n",
        "if data >= 5:\n",
        "  result = data * 2\n",
        "else :\n",
        "  result = data + 2\n",
        "print('reslt -', result)\n",
        "print()\n",
        "print('삼항연산자 -')\n",
        "result = data * 2 if (data >=5) else data + 2\n",
        "print('result -', result)"
      ],
      "metadata": {
        "colab": {
          "base_uri": "https://localhost:8080/"
        },
        "id": "rQ0dSvAzp9lh",
        "outputId": "1ac52283-b097-4965-9ebd-e0b026ff22a2"
      },
      "execution_count": null,
      "outputs": [
        {
          "output_type": "stream",
          "name": "stdout",
          "text": [
            "reslt - 18\n",
            "\n",
            "삼항연산자 -\n",
            "result - 18\n"
          ]
        }
      ]
    },
    {
      "cell_type": "code",
      "source": [
        "# if ~ in 구문\n",
        "# Quiz\n",
        "# 제공되는 데이터타입에서 이름이 'hannah'인 데이터가 있다면 ok 없으면 fail 출력\n",
        "tmpDict = {\n",
        "    'name'    : 'hannah',\n",
        "    'city'    : 'seoul',\n",
        "    'gender'  : 'female'\n",
        "}\n",
        "if 'hannah' in tmpDict.values() :\n",
        "  print ('ok')\n",
        "else :\n",
        "   print ('fail')\n",
        "\n"
      ],
      "metadata": {
        "colab": {
          "base_uri": "https://localhost:8080/"
        },
        "id": "CaHXl6M0sTpN",
        "outputId": "e70d4f5c-3eb8-4836-d529-a5b87e8b2ba7"
      },
      "execution_count": null,
      "outputs": [
        {
          "output_type": "stream",
          "name": "stdout",
          "text": [
            "ok\n"
          ]
        }
      ]
    },
    {
      "cell_type": "code",
      "source": [
        "tmpDict = {\n",
        "    'name'    : 'hannah',\n",
        "    'city'    : 'seoul',\n",
        "    'gender'  : 'female'\n",
        "}\n",
        "if 'HANNAH'.lower() in tmpDict.values() :\n",
        "  print ('ok')\n",
        "else :\n",
        "  print ('fail')"
      ],
      "metadata": {
        "colab": {
          "base_uri": "https://localhost:8080/"
        },
        "id": "Sc9hLu7-ug2T",
        "outputId": "dbc57536-e3cf-46b0-8df8-8fb5f2cee681"
      },
      "execution_count": null,
      "outputs": [
        {
          "output_type": "stream",
          "name": "stdout",
          "text": [
            "ok\n"
          ]
        }
      ]
    },
    {
      "cell_type": "code",
      "source": [
        "fruit = {\"봄\" : \"딸기\",\n",
        "         \"여름\" : \"토마토\",\n",
        "         \"가을\" : \"사과\"\n",
        "}\n",
        "\n",
        "answer = input(\"계절을 입력하시오 :\")\n",
        "print('debug - ' , answer)\n",
        "\n",
        "if answer in fruit.keys() :\n",
        "  print ('정답입니다')\n",
        "else:\n",
        "  print ('오답입니다')\n"
      ],
      "metadata": {
        "colab": {
          "base_uri": "https://localhost:8080/"
        },
        "id": "C1xnNbvZ1Q8T",
        "outputId": "fca7cc77-ef26-425c-b9c5-00bde0dde994"
      },
      "execution_count": null,
      "outputs": [
        {
          "output_type": "stream",
          "name": "stdout",
          "text": [
            "계절을 입력하시오 :봄\n",
            "debug -  봄\n",
            "정답입니다\n"
          ]
        }
      ]
    },
    {
      "cell_type": "code",
      "source": [
        "fruit = {\"봄\" : \"딸기\",\n",
        "         \"여름\" : \"토마토\",\n",
        "         \"가을\" : \"사과\"\n",
        "}\n",
        "\n",
        "answer = input(\"계절을 입력하시오 :\")\n",
        "print('debug-', answer)\n",
        "if answer in fruit.keys() :\n",
        "  print ('정답입니다')\n",
        "else:\n",
        "  print ('오답입니다')"
      ],
      "metadata": {
        "colab": {
          "base_uri": "https://localhost:8080/"
        },
        "id": "VJ_kuLxi41Ct",
        "outputId": "4714acf4-dd5b-4c4d-9e79-5a5041b7c2b7"
      },
      "execution_count": null,
      "outputs": [
        {
          "output_type": "stream",
          "name": "stdout",
          "text": [
            "계절을 입력하시오 :봄\n",
            "debug- 봄\n",
            "정답입니다\n"
          ]
        }
      ]
    },
    {
      "cell_type": "code",
      "source": [
        "score = input(\"점수를 입력하시오 :\")\n",
        "if score > 80 & score <= 100 :\n",
        "  print ('A')\n",
        "elif score <=80 & score >60 :\n",
        "  print ('B')\n",
        "elif score <=60 & score >40 :\n",
        "  print ('C')\n",
        "elif score >20& score <=40 :\n",
        "  print ('D')\n",
        "elif score <= 20 :\n",
        "  print ('E')"
      ],
      "metadata": {
        "colab": {
          "base_uri": "https://localhost:8080/",
          "height": 238
        },
        "id": "EWgZSAcc5XYO",
        "outputId": "481d4c0c-0d01-439f-bf94-0ea84b133429"
      },
      "execution_count": null,
      "outputs": [
        {
          "name": "stdout",
          "output_type": "stream",
          "text": [
            "점수를 입력하시오 :50\n"
          ]
        },
        {
          "output_type": "error",
          "ename": "TypeError",
          "evalue": "unsupported operand type(s) for &: 'int' and 'str'",
          "traceback": [
            "\u001b[0;31m---------------------------------------------------------------------------\u001b[0m",
            "\u001b[0;31mTypeError\u001b[0m                                 Traceback (most recent call last)",
            "\u001b[0;32m<ipython-input-46-9121f52fa24d>\u001b[0m in \u001b[0;36m<cell line: 0>\u001b[0;34m()\u001b[0m\n\u001b[1;32m      1\u001b[0m \u001b[0mscore\u001b[0m \u001b[0;34m=\u001b[0m \u001b[0minput\u001b[0m\u001b[0;34m(\u001b[0m\u001b[0;34m\"점수를 입력하시오 :\"\u001b[0m\u001b[0;34m)\u001b[0m\u001b[0;34m\u001b[0m\u001b[0;34m\u001b[0m\u001b[0m\n\u001b[0;32m----> 2\u001b[0;31m \u001b[0;32mif\u001b[0m \u001b[0mscore\u001b[0m \u001b[0;34m>\u001b[0m \u001b[0;36m80\u001b[0m \u001b[0;34m&\u001b[0m \u001b[0mscore\u001b[0m \u001b[0;34m<=\u001b[0m \u001b[0;36m100\u001b[0m \u001b[0;34m:\u001b[0m\u001b[0;34m\u001b[0m\u001b[0;34m\u001b[0m\u001b[0m\n\u001b[0m\u001b[1;32m      3\u001b[0m   \u001b[0mprint\u001b[0m \u001b[0;34m(\u001b[0m\u001b[0;34m'A'\u001b[0m\u001b[0;34m)\u001b[0m\u001b[0;34m\u001b[0m\u001b[0;34m\u001b[0m\u001b[0m\n\u001b[1;32m      4\u001b[0m \u001b[0;32melif\u001b[0m \u001b[0mscore\u001b[0m \u001b[0;34m<=\u001b[0m\u001b[0;36m80\u001b[0m \u001b[0;34m&\u001b[0m \u001b[0mscore\u001b[0m \u001b[0;34m>\u001b[0m\u001b[0;36m60\u001b[0m \u001b[0;34m:\u001b[0m\u001b[0;34m\u001b[0m\u001b[0;34m\u001b[0m\u001b[0m\n\u001b[1;32m      5\u001b[0m   \u001b[0mprint\u001b[0m \u001b[0;34m(\u001b[0m\u001b[0;34m'B'\u001b[0m\u001b[0;34m)\u001b[0m\u001b[0;34m\u001b[0m\u001b[0;34m\u001b[0m\u001b[0m\n",
            "\u001b[0;31mTypeError\u001b[0m: unsupported operand type(s) for &: 'int' and 'str'"
          ]
        }
      ]
    },
    {
      "cell_type": "code",
      "source": [
        "fruit = [\"사과\", \"포도\", \"홍시\"]\n",
        "answer = input('과일을 입력하시오: ')\n",
        "if answer in fruit :\n",
        "  print ('정답입니다')\n",
        "else :\n",
        "  print ('오답입니다')\n"
      ],
      "metadata": {
        "colab": {
          "base_uri": "https://localhost:8080/"
        },
        "id": "s9EXB1xz6J1d",
        "outputId": "e0c28bf5-4c0f-4bd2-8ff1-69e94171fdc0"
      },
      "execution_count": null,
      "outputs": [
        {
          "output_type": "stream",
          "name": "stdout",
          "text": [
            "과일을 입력하시오: 포도\n",
            "정답입니다\n"
          ]
        }
      ]
    }
  ]
}