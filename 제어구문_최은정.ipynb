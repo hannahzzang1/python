{
  "cells": [
    {
      "cell_type": "markdown",
      "metadata": {
        "id": "view-in-github",
        "colab_type": "text"
      },
      "source": [
        "<a href=\"https://colab.research.google.com/github/hannahzzang1/python/blob/main/%EC%A0%9C%EC%96%B4%EA%B5%AC%EB%AC%B8_%EC%B5%9C%EC%9D%80%EC%A0%95.ipynb\" target=\"_parent\"><img src=\"https://colab.research.google.com/assets/colab-badge.svg\" alt=\"Open In Colab\"/></a>"
      ]
    },
    {
      "cell_type": "code",
      "execution_count": null,
      "metadata": {
        "colab": {
          "base_uri": "https://localhost:8080/"
        },
        "id": "2Fcn1_D2v9dH",
        "outputId": "151edccb-7025-40f2-bf4c-b1562ec67d72"
      },
      "outputs": [
        {
          "name": "stdout",
          "output_type": "stream",
          "text": [
            "값을 입력하시오: 0\n",
            "0\n"
          ]
        }
      ],
      "source": [
        "# 사용자로부터 하나의 값을 입력받은 후\n",
        "# 해당 값에 20을 뺀 값을 출력하라.\n",
        "# 단 출력 값의 범위는 0~255이다.\n",
        "# 예를 들어 결과값이 0보다 작은 값이되는 경우 0을 출력하고\n",
        "# 255보다 큰 값이 되는 경우 255를 출력해야 한다.\n",
        "\n",
        "number = int(input(\"값을 입력하시오: \"))\n",
        "\n",
        "number = number -20\n",
        "if number <= 255 and number >0 :\n",
        "  print(number-20)\n",
        "elif number >255:\n",
        "  print(255)\n",
        "else:\n",
        "  print (0)"
      ]
    },
    {
      "cell_type": "code",
      "execution_count": null,
      "metadata": {
        "id": "KTbcBFJ2vaf0",
        "colab": {
          "base_uri": "https://localhost:8080/"
        },
        "outputId": "f3111873-aafb-43aa-efb5-ef4947dbf3f4"
      },
      "outputs": [
        {
          "output_type": "stream",
          "name": "stdout",
          "text": [
            "현재시간 : 14:00\n",
            "정시입니다.\n"
          ]
        }
      ],
      "source": [
        "# 사용자로부터 입력 받은 시간이 정각인지 판별하라.\n",
        "# 현재시간 : 02:00\n",
        "# 현재시간 : 03:10\n",
        "# 정시가 포함된 list, if구문\n",
        "\n",
        "inputTime = input('현재시간 : ')\n",
        "min = int(inputTime[3:5])\n",
        "if min == 00 :\n",
        "  print(\"정시입니다.\")\n",
        "else:\n",
        "  print(\"정시가 아닙니다.\")\n"
      ]
    },
    {
      "cell_type": "code",
      "execution_count": null,
      "metadata": {
        "colab": {
          "base_uri": "https://localhost:8080/"
        },
        "id": "_b3IpXmfvkX8",
        "outputId": "63a13dc1-62de-48ae-d2ff-f5aab35c6b3f"
      },
      "outputs": [
        {
          "name": "stdout",
          "output_type": "stream",
          "text": [
            "과일을 입력하시오: 사과\n",
            "정답입니다\n"
          ]
        }
      ],
      "source": [
        "# 사용자로 입력받은 단어가 아래 fruit 리스트에 포함되어\n",
        "# 있는지를 확인하라.\n",
        "# 포함되었다면 \"정답입니다\"를 아닐 경우 \"오답입니다\" 출력하라.\n",
        "fruit = [\"사과\", \"포도\", \"홍시\"]\n",
        "answer = input('과일을 입력하시오: ')\n",
        "if answer in fruit :\n",
        "  print ('정답입니다.')\n",
        "else :\n",
        "  print ('오답입니다.')"
      ]
    },
    {
      "cell_type": "code",
      "execution_count": null,
      "metadata": {
        "colab": {
          "base_uri": "https://localhost:8080/"
        },
        "id": "fK8flJravnqh",
        "outputId": "e8ec06a7-6da8-49c4-a06b-b4be7c1c6379"
      },
      "outputs": [
        {
          "output_type": "stream",
          "name": "stdout",
          "text": [
            "['강북구', '강북구', '강북구', '도봉구', '도봉구', '도봉구', '노원구', '노원구', '노원구', '노원구']\n",
            "우편번호를 입력하세요: 054854\n",
            "노원구\n"
          ]
        }
      ],
      "source": [
        "# 우편번호는 6자리고 구성되는데는\n",
        "# 예를 들어) 서울의 경우 01 로 시작하고 구별로 인덱스가 부여된다고 가정하자\n",
        "# 0 강북구, 1 강북구, 2 강북구, 3 도봉구, 4 도봉구, 5 도봉구, 6 노원구, 7 노원구, 8 노원구, 9 노원구\n",
        "# 사용자로부터 6자리 우편번호를 입력받고 구를 판별하라\n",
        "# 예시) 014000 이면 도봉구\n",
        "\n",
        "region = [\"강북구\", \"강북구\", \"강북구\", \"도봉구\", \"도봉구\", \"도봉구\", \"노원구\", \"노원구\", \"노원구\", \"노원구\"]\n",
        "print(region)\n",
        "post_code = input(\"우편번호를 입력하세요: \")\n",
        "second_digit = int(post_code[3])\n",
        "\n",
        "if 0<= second_digit <=2 :\n",
        "  print(\"강북구\")\n",
        "elif  3 <= second_digit <= 5 :\n",
        "  print(\"도봉구\")\n",
        "elif 6<=second_digit <=9 :\n",
        "  print(\"노원구\")\n",
        "else:\n",
        "  print(\"해당 우편번호는 존재하지 않습니다.\")\n"
      ]
    },
    {
      "cell_type": "code",
      "execution_count": null,
      "metadata": {
        "colab": {
          "base_uri": "https://localhost:8080/"
        },
        "id": "YtKJIldkvpzA",
        "outputId": "2f8e6e3e-7993-4990-a1f7-1ab2228448da"
      },
      "outputs": [
        {
          "output_type": "stream",
          "name": "stdout",
          "text": [
            "주민등록번호를 입력하세요: 789456-156498\n",
            "성별: 남자\n"
          ]
        }
      ],
      "source": [
        "# 주민등록번호 뒷 자리 7자리 중 첫째 자리는 성별을 나타내는데\n",
        "# 1, 3은 남자 2, 4는 여자를 의미한다.\n",
        "# 사용자로부터 13자리의 주민등록번호를 입력 받은 후 성별 (남자, 여자)를 출력하는 프로그램을 작성하라.\n",
        "# >> 주민등록번호: 821010-1635210\n",
        "\n",
        "id = input(\"주민등록번호를 입력하세요: \")\n",
        "number = int(id[7])\n",
        "\n",
        "if number == 2 or number == 4:\n",
        "  print(\"성별: 여자\")\n",
        "elif number == 1 or number ==3:\n",
        "  print(\"성별: 남자\")\n",
        "else:\n",
        "  print(\"잘못된 정보입니다.\")\n"
      ]
    },
    {
      "cell_type": "code",
      "execution_count": null,
      "metadata": {
        "colab": {
          "base_uri": "https://localhost:8080/"
        },
        "id": "7S1HKLQLvr5R",
        "outputId": "c0915a83-d14c-4754-b18d-bdbe7c3edad1"
      },
      "outputs": [
        {
          "output_type": "stream",
          "name": "stdout",
          "text": [
            "주민등록번호를 입력하세요: 456785-5134562\n",
            "출생지: 서울이 아닙니다.\n"
          ]
        }
      ],
      "source": [
        "# 주민등록번호의 뒷 자리 7자리 중 두번째와 세번째는 지역코드를 의미한다.\n",
        "# 주민등록번호를 입력 받은 후 출생지가 서울인지 아닌지 판단하는 코드를 작성하라\n",
        "#지역코드\t출생지\n",
        "# 00 ~ 08\t서울\n",
        "# 09 ~ 12\t부산\n",
        "\n",
        "id = input(\"주민등록번호를 입력하세요: \")\n",
        "seoul = ['00','01','02','03','04','05','06','07','08']\n",
        "busan = ['09','10','11','12']\n",
        "\n",
        "if id[8:10] in seoul :\n",
        "  print(\"출생지: 서울\")\n",
        "elif id[8:10] in busan :\n",
        "  print(\"출생지: 부산\")\n",
        "else :\n",
        "  print(\"출생지: 서울이 아닙니다.\")\n",
        "\n"
      ]
    },
    {
      "cell_type": "code",
      "execution_count": null,
      "metadata": {
        "colab": {
          "base_uri": "https://localhost:8080/"
        },
        "id": "coOVT-8Pvueg",
        "outputId": "5a1dccce-a8a8-4b83-ca5e-ccfd52a8b18f"
      },
      "outputs": [
        {
          "name": "stdout",
          "output_type": "stream",
          "text": [
            "투자종목을 입력하세요:Naver\n",
            "투자 경고 종목입니다\n"
          ]
        }
      ],
      "source": [
        "# 투자 경고 종목 리스트가 있을 때\n",
        "# 사용자로부터 종목명을 입력 받은 후\n",
        "# 해당 종목이 투자 경고 종목이라면 '투자 경고 종목입니다'를\n",
        "# 아니면 \"투자 경고 종목이 아닙니다.\"를 출력하는 프로그램을 작성하라.\n",
        "warnInvestmentLst = [\"Microsoft\", \"Google\", \"Naver\", \"Kakao\", \"SAMSUNG\", \"LG\"]\n",
        "\n",
        "name = input(\"투자종목을 입력하세요:\")\n",
        "\n",
        "if name in warnInvestmentLst:\n",
        "  result = \"투자 경고 종목입니다.\"\n",
        "else :\n",
        "  result = \"투자 경고 종목이 아닙니다.\"\n",
        "print(result)"
      ]
    },
    {
      "cell_type": "code",
      "execution_count": null,
      "metadata": {
        "colab": {
          "base_uri": "https://localhost:8080/"
        },
        "id": "MGQ0mOBXvybX",
        "outputId": "57bda140-d866-42c9-d2a9-dd0ff67cf444"
      },
      "outputs": [
        {
          "name": "stdout",
          "output_type": "stream",
          "text": [
            "계절을 입력하시오 :봄\n",
            "debug- 봄\n",
            "정답입니다\n"
          ]
        }
      ],
      "source": [
        "# 아래와 같이 fruit 딕셔너리가 정의되어 있다.\n",
        "# 사용자가 입력한 값이 딕셔너리 키 (key) 값에 포함되었다면 \"정답입니다\"를\n",
        "# 아닐 경우 \"오답입니다\" 출력하라.\n",
        "fruit = {\"봄\" : \"딸기\",\n",
        "         \"여름\" : \"토마토\",\n",
        "         \"가을\" : \"사과\"\n",
        "}\n",
        "\n",
        "answer = input(\"계절을 입력하시오 :\")\n",
        "print('debug-', answer)\n",
        "if answer in fruit.keys() :\n",
        "  print ('정답입니다')\n",
        "else:\n",
        "  print ('오답입니다')\n",
        "\n",
        "\n"
      ]
    },
    {
      "cell_type": "code",
      "execution_count": null,
      "metadata": {
        "colab": {
          "base_uri": "https://localhost:8080/"
        },
        "id": "-FNnDtBKv0bI",
        "outputId": "557814c3-c6c1-40b4-f724-6cea2d9c0779"
      },
      "outputs": [
        {
          "name": "stdout",
          "output_type": "stream",
          "text": [
            "문자를 입력하시오: happy\n",
            "Text- happy\n",
            "HAPPY\n"
          ]
        }
      ],
      "source": [
        "# 사용자로부터 문자 한 개를 입력 받고,\n",
        "# 소문자일 경우 대문자로,\n",
        "# 대문자 일 경우, 소문자로 변경해서 출력하라.\n",
        "# hint -  islower() 함수는 문자의 소문자 여부를 판별합니다.\n",
        "\n",
        "text = input(\"문자를 입력하시오: \")\n",
        "print('Text-', text)\n",
        "\n",
        "if text.islower() :\n",
        "  print(text.upper())\n",
        "else:\n",
        "  print(text.lower())"
      ]
    },
    {
      "cell_type": "code",
      "execution_count": null,
      "metadata": {
        "colab": {
          "base_uri": "https://localhost:8080/"
        },
        "id": "Gxvo5Yjnv175",
        "outputId": "1722811f-1928-4412-de71-8a814245554a"
      },
      "outputs": [
        {
          "name": "stdout",
          "output_type": "stream",
          "text": [
            "점수를 입력하시오 :50\n",
            "C\n"
          ]
        }
      ],
      "source": [
        "# 점수 구간에 해당하는 학점이 아래와 같이 정의되어 있다.\n",
        "# 81~100\tA\n",
        "# 61~80\tB\n",
        "# 41~60\tC\n",
        "# 21~40\tD\n",
        "# 0~20\tE\n",
        "# 사용자로부터 score를 입력받아 학점을 출력하라.\n",
        "\n",
        "score = int(input(\"점수를 입력하시오 :\"))\n",
        "if score > 80 and score <= 100 :\n",
        "  print ('A')\n",
        "elif score <=80 and score >60 :\n",
        "  print ('B')\n",
        "elif score <=60 and score >40 :\n",
        "  print ('C')\n",
        "elif score >20 and score <=40 :\n",
        "  print ('D')\n",
        "elif score <= 20 :\n",
        "  print ('E')\n",
        "\n",
        "\n"
      ]
    },
    {
      "cell_type": "code",
      "execution_count": null,
      "metadata": {
        "colab": {
          "base_uri": "https://localhost:8080/"
        },
        "id": "JEC3la96v3oJ",
        "outputId": "5a17bc6f-3ba1-4468-d5c1-cd86e00ad132"
      },
      "outputs": [
        {
          "output_type": "stream",
          "name": "stdout",
          "text": [
            "첫번째 숫자를 입력하시오:4569789546\n",
            "두번째 숫자를 입력하시오:9784564945\n",
            "세번째 숫자를 입력하시오:4597564195\n",
            "9784564945\n"
          ]
        }
      ],
      "source": [
        "# 사용자로부터 세 개의 숫자를 입력 받은 후\n",
        "# 가장 큰 숫자를 출력하라.\n",
        "# input number1: 10\n",
        "# input number2: 9\n",
        "# input number3: 20\n",
        "\n",
        "number1 = int(input(\"첫번째 숫자를 입력하시오:\"))\n",
        "number2 = int(input(\"두번째 숫자를 입력하시오:\"))\n",
        "number3 = int(input(\"세번째 숫자를 입력하시오:\"))\n",
        "if number1 > number2 > number3 :\n",
        "  print(number1)\n",
        "elif number1 > number3 > number2 :\n",
        "  print(number1)\n",
        "elif number2 > number1 > number3 :\n",
        "  print(number2)\n",
        "elif number2 > number3 > number1 :\n",
        "  print(number2)\n",
        "elif number3 >= number1 >= number2:\n",
        "  print(number3)\n",
        "elif number3 >= number2 >= number1:\n",
        "  print(number3)\n",
        "elif number1 == number2 > number3:\n",
        "  print(number1)\n",
        "elif number2 == number3 > number1:\n",
        "  print(number2)\n",
        "elif number1 == number3 > number2:\n",
        "  print(number1)\n",
        "else:\n",
        "  print('값이 잘못됐습니다.')\n",
        "\n",
        "# numLst = [number1, number2, number3]\n",
        "# print(max(numLst))\n",
        "\n"
      ]
    },
    {
      "cell_type": "code",
      "execution_count": null,
      "metadata": {
        "colab": {
          "base_uri": "https://localhost:8080/"
        },
        "id": "-wAjvErZv5FJ",
        "outputId": "0286cc66-92fb-41a9-a7d2-b343e31fdaeb"
      },
      "outputs": [
        {
          "name": "stdout",
          "output_type": "stream",
          "text": [
            "숫자를 입력하시오: 5\n",
            "number- 5\n",
            "홀수\n"
          ]
        }
      ],
      "source": [
        "# input()함수를 이용하여 입력받은 숫자가 홀수인지 짝수인지를 판단하는 프로그램을 작성하라.\n",
        "# 홀수면 '홀수'라고 출력하고 짝수면 '짝수'라고 출력하시오\n",
        "# +, - , / , * , %(나머지 연산자)\n",
        "\n",
        "number = int(input('숫자를 입력하시오: '))\n",
        "print(\"number-\", number)\n",
        "if number %2 == 0 :\n",
        "  print('짝수')\n",
        "else :\n",
        "  print('홀수')"
      ]
    }
  ],
  "metadata": {
    "colab": {
      "provenance": [],
      "authorship_tag": "ABX9TyPs+keHQSdL6e0IujGzcyQS",
      "include_colab_link": true
    },
    "kernelspec": {
      "display_name": "Python 3",
      "name": "python3"
    },
    "language_info": {
      "name": "python"
    }
  },
  "nbformat": 4,
  "nbformat_minor": 0
}