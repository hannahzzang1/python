{
  "cells": [
    {
      "cell_type": "markdown",
      "metadata": {
        "id": "view-in-github",
        "colab_type": "text"
      },
      "source": [
        "<a href=\"https://colab.research.google.com/github/hannahzzang1/python/blob/main/siat_python_day05.ipynb\" target=\"_parent\"><img src=\"https://colab.research.google.com/assets/colab-badge.svg\" alt=\"Open In Colab\"/></a>"
      ]
    },
    {
      "cell_type": "code",
      "execution_count": null,
      "metadata": {
        "id": "yD7yk-woAP_U"
      },
      "outputs": [],
      "source": [
        "# 날짜타입\n",
        "# conda install 구문\n",
        "# pip install 구문\n",
        "# conda numpy\n",
        "# install 과정을 통해서 library 설치 가능\n",
        "# 형식) import 모듈이름\n",
        "# 형식) from   모듈이름 import 함수 또는 클래스\n",
        "# 형식) from   패키지명 import 모듈"
      ]
    },
    {
      "cell_type": "code",
      "execution_count": null,
      "metadata": {
        "colab": {
          "base_uri": "https://localhost:8080/"
        },
        "id": "FEP2pF40FnJz",
        "outputId": "3ec33e39-34a2-41c8-ba26-dd99b4d68ece"
      },
      "outputs": [
        {
          "name": "stdout",
          "output_type": "stream",
          "text": [
            "2025-01-20\n",
            "type -  <class 'datetime.date'>\n"
          ]
        }
      ],
      "source": [
        "# 형식) from   패키지명 import 모듈\n",
        "# date 라는 모듈 내 today 함수 호출\n",
        "# 객체 내 클래스, 메서드, 함수 존재\n",
        "# 메서드는 클래스내에 존재\n",
        "# 함수는 클래스 외부에 존재, 독립시행이 가능\n",
        "\n",
        "\n",
        "# date, datetime: 클래스\n",
        "# 클래스에는 변수, 함수가 있는데 독립실행이 불가능하므로, today()는 메서드\n",
        "from datetime import date, datetime\n",
        "nowDay = date.today()\n",
        "print(nowDay)\n",
        "print('type - ', type(nowDay))"
      ]
    },
    {
      "cell_type": "code",
      "execution_count": null,
      "metadata": {
        "colab": {
          "base_uri": "https://localhost:8080/"
        },
        "id": "6YYK0FcyIrZl",
        "outputId": "02968593-d463-49ea-c9c3-af3d5460d228"
      },
      "outputs": [
        {
          "name": "stdout",
          "output_type": "stream",
          "text": [
            "년 -  2025\n",
            "월 -  1\n",
            "일 -  20\n"
          ]
        }
      ],
      "source": [
        "# year는 괄호가 없으므로 변수\n",
        "# 반환받은 객체는 변수\n",
        "# 호출된 객체 타입이 변수/함수/메서드인지 구분 필요\n",
        "\n",
        "print('년 - ', nowDay.year)\n",
        "print('월 - ', nowDay.month)\n",
        "print('일 - ', nowDay.day)"
      ]
    },
    {
      "cell_type": "code",
      "execution_count": null,
      "metadata": {
        "colab": {
          "base_uri": "https://localhost:8080/"
        },
        "id": "e-d65GdVJ-ed",
        "outputId": "a3698004-40b3-4a0c-91d8-f6f940ce1008"
      },
      "outputs": [
        {
          "name": "stdout",
          "output_type": "stream",
          "text": [
            "2025-01-20 01:03:42.276124\n",
            "시 -  1\n",
            "분 -  3\n",
            "초 -  42\n"
          ]
        }
      ],
      "source": [
        "nowDatetime = datetime.today()\n",
        "print(nowDatetime)\n",
        "print('시 - ', nowDatetime.hour)\n",
        "print('분 - ', nowDatetime.minute)\n",
        "print('초 - ', nowDatetime.second)"
      ]
    },
    {
      "cell_type": "code",
      "execution_count": null,
      "metadata": {
        "colab": {
          "base_uri": "https://localhost:8080/"
        },
        "id": "JsbjyfvmPKHh",
        "outputId": "46aa9ec9-5160-4333-de48-ccac85a73259"
      },
      "outputs": [
        {
          "name": "stdout",
          "output_type": "stream",
          "text": [
            "days - 2025-01-19\n"
          ]
        }
      ],
      "source": [
        "# 날짜타입에 대한 연산은 가능할까?\n",
        "# print(nowDay + 1) -- error\n",
        "from datetime import date, datetime, timedelta\n",
        "days = timedelta(days=-1)\n",
        "print('days -', nowDay + days)"
      ]
    },
    {
      "cell_type": "code",
      "execution_count": null,
      "metadata": {
        "colab": {
          "base_uri": "https://localhost:8080/"
        },
        "id": "DjKdaWVaQbCo",
        "outputId": "dd5e461f-3c2a-4934-c26c-03c8167a0030"
      },
      "outputs": [
        {
          "name": "stdout",
          "output_type": "stream",
          "text": [
            "months - 2024-11-20\n"
          ]
        }
      ],
      "source": [
        "# months = timedelta(months = -2)\n",
        "# print('months -', nowDay + months) -- error\n",
        "# realativedelta 는 년, 월의 연산을 도와줌\n",
        "\n",
        "# from 패키지.모듈 import 함수\n",
        "from dateutil.relativedelta import relativedelta\n",
        "months = relativedelta(months=-2)\n",
        "print('months -', nowDay + months)"
      ]
    },
    {
      "cell_type": "code",
      "execution_count": null,
      "metadata": {
        "colab": {
          "base_uri": "https://localhost:8080/"
        },
        "id": "pXf6vPJHSXv3",
        "outputId": "5d86db5c-c18c-4b1b-bdff-27c4a65a9856"
      },
      "outputs": [
        {
          "name": "stdout",
          "output_type": "stream",
          "text": [
            "type -  <class 'str'>\n",
            "type -  <class 'datetime.datetime'>\n"
          ]
        }
      ],
      "source": [
        "# from 패키지.모듈 import 함수\n",
        "# 라이브러리 함수이기 때문에 casting이 안된다.\n",
        "# 문자를 날짜타입으로 변환해주는 함수 - parse()\n",
        "\n",
        "from dateutil.parser import parse\n",
        "\n",
        "str = '2025-01-20'\n",
        "print('type - ', type(str))\n",
        "\n",
        "today = parse(str)\n",
        "print('type - ', type(today))  # 년, 월, 일, 시, 분, 초 출력가능\n"
      ]
    },
    {
      "cell_type": "code",
      "execution_count": null,
      "metadata": {
        "colab": {
          "base_uri": "https://localhost:8080/"
        },
        "id": "aVXRQEDQS0te",
        "outputId": "923c0be9-fcfe-495e-b3b4-3c26570b3ec7"
      },
      "outputs": [
        {
          "name": "stdout",
          "output_type": "stream",
          "text": [
            "True\n",
            "False\n",
            "True\n",
            "True\n",
            "True\n"
          ]
        }
      ],
      "source": [
        "# 관계 연산자 종류\n",
        "# >, >=, <, <=, ==, !=\n",
        "\n",
        "print(3+12>7+3)\n",
        "x = 15    # 여기서 '='는할당연산\n",
        "y = 10\n",
        "\n",
        "print(x==y)\n",
        "print(x!=y) # '!=' : 같지 않으면 true\n",
        "print(x>y)\n",
        "print(x>=y)\n",
        "\n",
        "# 연산자의 우선순위: 산술 > 관계> 비교"
      ]
    },
    {
      "cell_type": "code",
      "execution_count": null,
      "metadata": {
        "colab": {
          "base_uri": "https://localhost:8080/"
        },
        "id": "g3ZKi97RVHW8",
        "outputId": "d9783731-fd06-43a6-c5a1-70a7ef978849"
      },
      "outputs": [
        {
          "name": "stdout",
          "output_type": "stream",
          "text": [
            "Pass\n"
          ]
        }
      ],
      "source": [
        "score = 90\n",
        "grade = 'A'\n",
        "\n",
        "#복수의 조건이 모두 참일 경우 실행하게 조건을 만들고 싶다면?\n",
        "# >=: 비교연산자, and: 비교연산자\n",
        "if score >= 90 and grade == 'A':\n",
        "  print('Pass')\n",
        "else:\n",
        "  print(\"Fail\")"
      ]
    },
    {
      "cell_type": "code",
      "execution_count": null,
      "metadata": {
        "id": "RHRA88e3Ws_T"
      },
      "outputs": [],
      "source": [
        "admin = 'admin'\n",
        "grade = ['platinum', 'gold']\n",
        "\n",
        "# 어드민의 권한이 두가지가 있다\n",
        "# 플래티넘이면 최상위 관리자\n",
        "# 그렇지 않으면 일반관리자로 구분하고 싶다면?\n",
        "\n",
        "for data in grade:\n",
        "  print(data)\n",
        "if admin == 'admin' and data == 'platinum':\n",
        "  print('최상위 관리자')\n",
        "else:\n",
        "  print('일반관리자')"
      ]
    },
    {
      "cell_type": "code",
      "execution_count": null,
      "metadata": {
        "colab": {
          "base_uri": "https://localhost:8080/"
        },
        "id": "4RHaMqM_cJAx",
        "outputId": "7f90766d-e78a-4da2-ed14-3e58347197fa"
      },
      "outputs": [
        {
          "name": "stdout",
          "output_type": "stream",
          "text": [
            "case01 - \n",
            "반복문\n",
            "반복문\n",
            "반복문\n",
            "반복문\n",
            "반복문\n",
            "반복문\n",
            "반복문\n",
            "반복문\n",
            "반복문\n",
            "반복문\n",
            "\n",
            "case01 - \n",
            "index0- 반복문\n",
            "index1- 반복문\n",
            "index2- 반복문\n",
            "index3- 반복문\n",
            "index4- 반복문\n",
            "index5- 반복문\n",
            "index6- 반복문\n",
            "index7- 반복문\n",
            "index8- 반복문\n",
            "index9- 반복문\n"
          ]
        }
      ],
      "source": [
        "# 반복구문\n",
        "# 루프문\n",
        "# for ~ in 열거형변수(순서가 있는 변수타입) :\n",
        "# e.g. 튜플, 리스트, 문자열\n",
        "# while (조건식): True/false\n",
        "# 조건의 변화(증감, 불리언 값의 변화)\n",
        "\n",
        "print('case01 - ')\n",
        "for idx in range(0, 10):\n",
        "  print('반복문')\n",
        "print()\n",
        "\n",
        "print('case01 - ')\n",
        "for idx in range(0, 10):\n",
        "  print('index{}- 반복문'.format(idx))"
      ]
    },
    {
      "cell_type": "code",
      "execution_count": null,
      "metadata": {
        "colab": {
          "base_uri": "https://localhost:8080/"
        },
        "id": "nDWDBddeeFHD",
        "outputId": "56b90cb9-9a09-4be7-a567-93ebd9f141c5"
      },
      "outputs": [
        {
          "name": "stdout",
          "output_type": "stream",
          "text": [
            "성적을 입력하세요 :32\n",
            "성적을 입력하세요 :23\n",
            "성적을 입력하세요 :23\n",
            "성적을 입력하세요 :32\n",
            "성적을 입력하세요 :34\n",
            "성적을 입력하세요 :34\n",
            "성적을 입력하세요 :54\n",
            "성적을 입력하세요 :56\n",
            "성적을 입력하세요 :56\n",
            "성적을 입력하세요 :56\n",
            "\n",
            "32\t23\t23\t32\t34\t34\t54\t56\t56\t56\t"
          ]
        }
      ],
      "source": [
        "# Quiz\n",
        "# input 함수를 이용해서 10명의 성적을 입력받고\n",
        "# 입력된 10명의 성적을 출력하고 싶다면?\n",
        "# list 이용\n",
        "\n",
        "scores = []\n",
        "for idx in range(10):\n",
        "  scores.insert(idx, int(input('성적을 입력하세요 :'))) #insert 외 append 도 사용 가능\n",
        "print()\n",
        "for idx in range(len(scores)) :\n",
        "  print(scores[idx], end = \"\\t\")"
      ]
    },
    {
      "cell_type": "code",
      "execution_count": null,
      "metadata": {
        "colab": {
          "base_uri": "https://localhost:8080/"
        },
        "id": "g_jrMgSsiLTi",
        "outputId": "2f70c4ce-596a-4adc-8bf4-27eddce9a803"
      },
      "outputs": [
        {
          "data": {
            "text/plain": [
              "10"
            ]
          },
          "execution_count": 41,
          "metadata": {},
          "output_type": "execute_result"
        }
      ],
      "source": [
        "len(scores)"
      ]
    },
    {
      "cell_type": "code",
      "execution_count": null,
      "metadata": {
        "colab": {
          "base_uri": "https://localhost:8080/"
        },
        "id": "OUpHpsp_iM_V",
        "outputId": "b1f10e31-a835-4e96-bc8f-0647c5eb432a"
      },
      "outputs": [
        {
          "name": "stdout",
          "output_type": "stream",
          "text": [
            "scores- [32, 23, 23, 32, 34, 34, 54, 56, 56, 56]\n",
            "\n",
            "성적의 총합은 400이고, 평균은 40.0입니다.\n"
          ]
        }
      ],
      "source": [
        "# Quiz\n",
        "# 입력받은 점수의 총합과 평균을 구하시오\n",
        "\n",
        "print('scores-', scores)\n",
        "scoreSum = 0\n",
        "for score in scores:\n",
        "  scoreSum +=score\n",
        "print()\n",
        "scoreAvg = scoreSum / len(scores)\n",
        "print('성적의 총합은 {}이고, 평균은 {}입니다.'.format(scoreSum, scoreAvg))"
      ]
    },
    {
      "cell_type": "code",
      "execution_count": null,
      "metadata": {
        "colab": {
          "base_uri": "https://localhost:8080/"
        },
        "id": "AkVDlhx8ld1I",
        "outputId": "c6592123-2cf9-4778-e521-9e709b6f9e0e"
      },
      "outputs": [
        {
          "name": "stdout",
          "output_type": "stream",
          "text": [
            "강아지의 이름을 입력하시오: 해피\n",
            "강아지의 이름을 입력하시오: 까미\n",
            "강아지의 이름을 입력하시오: 아토\n",
            "\n",
            "['해피', '까미']\n"
          ]
        }
      ],
      "source": [
        "# 반복구문 중 특정 조건에 만족했을 때\n",
        "# 반복구문을 빠져나와야하는 상황이라면? - break, continue(조건만 skip)\n",
        "\n",
        "#Quiz\n",
        "# input 함수를 이용해서 강아지의 이름을 입력받다가\n",
        "# 강아지의 이름이 '아토'가 입력되면 입력을 멈추고\n",
        "# 입력된 강아지 이름을 출력하시오.\n",
        "\n",
        "pets = []\n",
        "isFlag = True\n",
        "for idx in range(10) :\n",
        "  name = input(\"강아지의 이름을 입력하시오: \")\n",
        "  if name == '아토' :\n",
        "    break\n",
        "  else:\n",
        "    pets.append(name)\n",
        "print()\n",
        "print(pets)\n"
      ]
    },
    {
      "cell_type": "code",
      "execution_count": null,
      "metadata": {
        "colab": {
          "base_uri": "https://localhost:8080/"
        },
        "id": "mEM4V2fwuVD6",
        "outputId": "5aa1ea85-37d2-4a84-923c-04e9c0458bcf"
      },
      "outputs": [
        {
          "name": "stdout",
          "output_type": "stream",
          "text": [
            "강아지의 이름을 입력하시오: 해피\n",
            "강아지의 이름을 입력하시오: 쿤\n",
            "강아지의 이름을 입력하시오: 아토\n",
            "\n",
            "['해피', '쿤']\n"
          ]
        }
      ],
      "source": [
        "pets = []\n",
        "isFlag = True\n",
        "while isFlag:\n",
        "  name = input(\"강아지의 이름을 입력하시오: \")\n",
        "  if name == '아토' :\n",
        "    isFlag = False\n",
        "  else:\n",
        "    pets.append(name)\n",
        "print()\n",
        "print(pets)"
      ]
    },
    {
      "cell_type": "code",
      "execution_count": null,
      "metadata": {
        "colab": {
          "base_uri": "https://localhost:8080/"
        },
        "id": "vCt2KvIOvHf7",
        "outputId": "1d03a927-ea63-4393-aab9-ecaedfad3d6f"
      },
      "outputs": [
        {
          "name": "stdout",
          "output_type": "stream",
          "text": [
            "3*1\n",
            "3*2\n",
            "3*3\n",
            "3*4\n",
            "3*5\n",
            "3*6\n",
            "3*7\n",
            "3*8\n",
            "3*9\n"
          ]
        }
      ],
      "source": [
        "# 구구단의 3단만 출력하시오\n",
        "# for in 구문\n",
        "\n",
        "dan = 3\n",
        "for value in range(1,10) :\n",
        "  print('{}*{}'.format(dan, value, (dan*value)))"
      ]
    },
    {
      "cell_type": "code",
      "execution_count": null,
      "metadata": {
        "colab": {
          "base_uri": "https://localhost:8080/"
        },
        "id": "tXlfzJ9Gw3ob",
        "outputId": "9aa23036-7b4c-43c8-8589-e841c5bffa72"
      },
      "outputs": [
        {
          "name": "stdout",
          "output_type": "stream",
          "text": [
            "3*1=3\n",
            "3*3=9\n",
            "3*5=15\n",
            "3*7=21\n",
            "3*9=27\n"
          ]
        }
      ],
      "source": [
        "# 구구단의 3단만 출력하시오\n",
        "# 값이 홀수인것들만 출력하시오\n",
        "\n",
        "dan = 3\n",
        "for value in range(1,10) :\n",
        "  if (dan*value)%2==1 :\n",
        "    print('{}*{}={}'.format(dan, value, (dan*value)))"
      ]
    },
    {
      "cell_type": "code",
      "execution_count": null,
      "metadata": {
        "colab": {
          "base_uri": "https://localhost:8080/"
        },
        "id": "prsdvewcyS0q",
        "outputId": "1b991c75-c839-4b88-9f93-72452078d8eb"
      },
      "outputs": [
        {
          "name": "stdout",
          "output_type": "stream",
          "text": [
            "2002\n",
            "2006\n",
            "2010\n",
            "2014\n",
            "2018\n",
            "2022\n"
          ]
        }
      ],
      "source": [
        "# 월드컵은 4년에 한 번 개최된다.\n",
        "# 2002년 이후 월드컵이 개최된 년도를 출력하시오.\n",
        "# for if\n",
        "# 스텝이 4씩 증가\n",
        "# 2002~2025\n",
        "\n",
        "for year in range(2002,2026,4):\n",
        "  print(year)\n"
      ]
    },
    {
      "cell_type": "code",
      "execution_count": null,
      "metadata": {
        "colab": {
          "base_uri": "https://localhost:8080/"
        },
        "id": "O2KUEWRvzLch",
        "outputId": "bb9998cc-9e17-41ce-8c41-5fabe0206528"
      },
      "outputs": [
        {
          "name": "stdout",
          "output_type": "stream",
          "text": [
            "hello\n",
            "ex01\n",
            "siat\n",
            "intro\n",
            "\n",
            "['hello', 'ex01', 'siat', 'intro']\n"
          ]
        }
      ],
      "source": [
        "# literables 자료형 반복\n",
        "# 함수 : range(), reversed(), enumerate(), filter(), map(), zip()\n",
        "# Quiz\n",
        "# 파일 이름이 저장된 리스트에서\n",
        "# 확장자를 제거하고, 파일 이름만 출력하시오.\n",
        "\n",
        "lst = ['hello.py', 'ex01.py', 'siat.hwp', 'intro.doc'] # 열거형이기 떄문에 for if 가능\n",
        "for file in lst:\n",
        "  #print(file, type(file)) -> string 확인\n",
        "  print(file.split('.')[0])\n",
        "print()\n",
        "\n",
        "result = [file.split('.')[0] for file in lst]\n",
        "print(result)"
      ]
    },
    {
      "cell_type": "code",
      "execution_count": null,
      "metadata": {
        "colab": {
          "base_uri": "https://localhost:8080/"
        },
        "id": "JXYrm4sLK-SM",
        "outputId": "7b674912-1773-4202-b680-4aa432e00cf3"
      },
      "outputs": [
        {
          "name": "stdout",
          "output_type": "stream",
          "text": [
            "Hello.py\n",
            "Ex01.py\n",
            "Siat.hwp\n",
            "Intro.doc\n"
          ]
        }
      ],
      "source": [
        "#Quiz\n",
        "# 파일 이름이 저장된 리스트에서\n",
        "# 첫 글자를 대문자로 변경해서 출력하시오.\n",
        "\n",
        "for file in lst :\n",
        "  # print(file.captialize())\n",
        "  print(file[0].upper()+file[1:])"
      ]
    },
    {
      "cell_type": "code",
      "execution_count": null,
      "metadata": {
        "colab": {
          "base_uri": "https://localhost:8080/"
        },
        "id": "GDVU_oAaL-EX",
        "outputId": "74ee2aa9-adb0-42ff-f4b6-57b834e8f610"
      },
      "outputs": [
        {
          "name": "stdout",
          "output_type": "stream",
          "text": [
            "b\te\ta\tu\ti\tf\tu\tl\t"
          ]
        }
      ],
      "source": [
        "word = 'beautiful'\n",
        "for w in word:\n",
        "  if w == 't':\n",
        "    continue\n",
        "  print(w, end=\"\\t\")\n"
      ]
    },
    {
      "cell_type": "code",
      "execution_count": null,
      "metadata": {
        "colab": {
          "base_uri": "https://localhost:8080/"
        },
        "id": "O_6fcZA6NNMC",
        "outputId": "fec1d44d-ebe6-4ba7-9882-f1ffb3c51c6b"
      },
      "outputs": [
        {
          "name": "stdout",
          "output_type": "stream",
          "text": [
            "eunjung\n",
            "20\n",
            "seoul\n"
          ]
        }
      ],
      "source": [
        "tmpDict = {\n",
        "    'name': 'eunjung',\n",
        "    'age' : 20,\n",
        "    'city': 'seoul'\n",
        "}\n",
        "\n",
        "for key in tmpDict.keys():\n",
        "  print(tmpDict[key]) #Q"
      ]
    },
    {
      "cell_type": "code",
      "execution_count": null,
      "metadata": {
        "colab": {
          "base_uri": "https://localhost:8080/"
        },
        "id": "fE7krcMWN7vE",
        "outputId": "53b10a6d-98a1-4614-8e66-a99b724b3265"
      },
      "outputs": [
        {
          "name": "stdout",
          "output_type": "stream",
          "text": [
            "PINEAPPLE"
          ]
        }
      ],
      "source": [
        "# Quiz\n",
        "# 제공되는 문자열을 모두 대문자로 출력하시오\n",
        "# hint - isupper(), upper()\n",
        "fruitName = \"PineApple\"\n",
        "\n",
        "for w in fruitName:\n",
        "  if w.isupper() :\n",
        "    print(w, end=\"\")\n",
        "  else:\n",
        "    print(w.upper(), end=\"\")\n"
      ]
    },
    {
      "cell_type": "code",
      "execution_count": null,
      "metadata": {
        "colab": {
          "base_uri": "https://localhost:8080/"
        },
        "id": "G5CNPd7yTD36",
        "outputId": "c62c19c7-4b31-44ca-cfa3-ffca69d6f0ee"
      },
      "outputs": [
        {
          "name": "stdout",
          "output_type": "stream",
          "text": [
            "Found\n"
          ]
        }
      ],
      "source": [
        "# for ~ in 변수:\n",
        "# else:\n",
        "# 루프의 마지막까지 찾았지만 없는 경우 else 구문 수행\n",
        "# 주의) for 구문 안에 break를 실행하지 않을 때만 수행\n",
        "#파이썬에만 for else 구문 존재\n",
        "\n",
        "# 만약 45 값을 찾고싶다면?\n",
        "numbers = [14,3,4,7,10,24]\n",
        "for number in numbers:\n",
        "  if number == 7:\n",
        "    print('Found')\n",
        "    break\n",
        "else:\n",
        "  print('Not Found')\n",
        "\n"
      ]
    },
    {
      "cell_type": "code",
      "execution_count": null,
      "metadata": {
        "colab": {
          "base_uri": "https://localhost:8080/"
        },
        "id": "_j1LpxDOV6_2",
        "outputId": "53967f96-7a6b-4a62-a64b-db2ed228667f"
      },
      "outputs": [
        {
          "name": "stdout",
          "output_type": "stream",
          "text": [
            "answer- 10\n"
          ]
        }
      ],
      "source": [
        "# Quiz\n",
        "# 1~10 사이의 난수를 생성하고 숫자를 맞춰보자\n",
        "\n",
        "from random import randint #random이라는 모듈로부터 함수 추출\n",
        "answer = randint(1,10)\n",
        "print('answer-', answer)"
      ]
    },
    {
      "cell_type": "code",
      "execution_count": null,
      "metadata": {
        "colab": {
          "background_save": true,
          "base_uri": "https://localhost:8080/"
        },
        "id": "Qq2-On-HWrqg",
        "outputId": "1869e178-2190-4889-fde1-0f38132efcdf"
      },
      "outputs": [
        {
          "name": "stdout",
          "output_type": "stream",
          "text": [
            "answer- 24\n"
          ]
        }
      ],
      "source": [
        "# Quiz\n",
        "# 1~10 사이의 난수를 생성하고 숫자를 맞춰보자\n",
        "# 무엇을 기준으로? 정답?\n",
        "# 시도횟수는 10번으로 제한\n",
        "# 출력형식) x 번째 정답을 맞췄습니다.\n",
        "# 출력형식) 정답을 맞추지 못했습니다.\n",
        "# 반복구문은 for, while\n",
        "# guess game\n",
        "# ==, > , <\n",
        "\n",
        "from random import randint #\n",
        "answer = randint(1,100)\n",
        "print('answer-', answer)\n",
        "for number in range(10):\n",
        "  a = int(input(\"1~100 사이의 숫자를 입력하시오: \"))\n",
        "  if a == answer:\n",
        "    print('{}번째 정답을 맞췄습니다. 정답은 {}'.format(number+1, answer))\n",
        "    break\n",
        "  elif a > answer:\n",
        "    print('>>> Down')\n",
        "  else:\n",
        "    print('>>> Up')\n",
        "else:\n",
        "  print('전부 틀렸습니다.')"
      ]
    },
    {
      "cell_type": "code",
      "execution_count": null,
      "metadata": {
        "id": "UTg0pB33c8cV"
      },
      "outputs": [],
      "source": []
    }
  ],
  "metadata": {
    "colab": {
      "provenance": [],
      "authorship_tag": "ABX9TyOSfEcdqaPe+SOjwc18yUem",
      "include_colab_link": true
    },
    "kernelspec": {
      "display_name": "Python 3",
      "name": "python3"
    },
    "language_info": {
      "name": "python"
    }
  },
  "nbformat": 4,
  "nbformat_minor": 0
}