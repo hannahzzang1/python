{
  "nbformat": 4,
  "nbformat_minor": 0,
  "metadata": {
    "colab": {
      "provenance": [],
      "authorship_tag": "ABX9TyNa0VRHSUkar/dxd5p+Vm/d",
      "include_colab_link": true
    },
    "kernelspec": {
      "name": "python3",
      "display_name": "Python 3"
    },
    "language_info": {
      "name": "python"
    }
  },
  "cells": [
    {
      "cell_type": "markdown",
      "metadata": {
        "id": "view-in-github",
        "colab_type": "text"
      },
      "source": [
        "<a href=\"https://colab.research.google.com/github/hannahzzang1/python/blob/main/siat_python_day06.ipynb\" target=\"_parent\"><img src=\"https://colab.research.google.com/assets/colab-badge.svg\" alt=\"Open In Colab\"/></a>"
      ]
    },
    {
      "cell_type": "code",
      "execution_count": null,
      "metadata": {
        "colab": {
          "base_uri": "https://localhost:8080/"
        },
        "id": "8cVjsvUIKX3x",
        "outputId": "4f800016-9387-4a10-cc69-6dbcccd4f0e2"
      },
      "outputs": [
        {
          "output_type": "stream",
          "name": "stdout",
          "text": [
            ">>> dan = 2\n",
            "1\t2\t3\t4\t5\t6\t7\t8\t9\t\n",
            ">>> dan = 3\n",
            "1\t2\t3\t4\t5\t6\t7\t8\t9\t\n",
            ">>> dan = 4\n",
            "1\t2\t3\t4\t5\t6\t7\t8\t9\t\n",
            ">>> dan = 5\n",
            "1\t2\t3\t4\t5\t6\t7\t8\t9\t\n",
            ">>> dan = 6\n",
            "1\t2\t3\t4\t5\t6\t7\t8\t9\t\n",
            ">>> dan = 7\n",
            "1\t2\t3\t4\t5\t6\t7\t8\t9\t\n",
            ">>> dan = 8\n",
            "1\t2\t3\t4\t5\t6\t7\t8\t9\t\n",
            ">>> dan = 9\n",
            "1\t2\t3\t4\t5\t6\t7\t8\t9\t\n"
          ]
        }
      ],
      "source": [
        "# 이중 루프구문\n",
        "# 구구단 작성\n",
        "\n",
        "for i in range(2, 10):\n",
        "  print('>>> dan = {}'.format(i))\n",
        "  for j in range(1,10):\n",
        "    print(j, end=\"\\t\")\n",
        "  print() #개행"
      ]
    },
    {
      "cell_type": "code",
      "source": [
        "for i in range(2, 10):\n",
        "  print('>>> dan = {}'.format(i))\n",
        "  for j in range(1,10):\n",
        "    print('{}*{}={}'.format(i, j, (i*j)), end=\"\\t\")\n",
        "  print()"
      ],
      "metadata": {
        "colab": {
          "base_uri": "https://localhost:8080/"
        },
        "id": "WwIg5cj2P3PC",
        "outputId": "39761f94-d3bf-4535-e5eb-d6b57600d09e"
      },
      "execution_count": null,
      "outputs": [
        {
          "output_type": "stream",
          "name": "stdout",
          "text": [
            ">>> dan = 2\n",
            "2*1=2\t2*2=4\t2*3=6\t2*4=8\t2*5=10\t2*6=12\t2*7=14\t2*8=16\t2*9=18\t\n",
            ">>> dan = 3\n",
            "3*1=3\t3*2=6\t3*3=9\t3*4=12\t3*5=15\t3*6=18\t3*7=21\t3*8=24\t3*9=27\t\n",
            ">>> dan = 4\n",
            "4*1=4\t4*2=8\t4*3=12\t4*4=16\t4*5=20\t4*6=24\t4*7=28\t4*8=32\t4*9=36\t\n",
            ">>> dan = 5\n",
            "5*1=5\t5*2=10\t5*3=15\t5*4=20\t5*5=25\t5*6=30\t5*7=35\t5*8=40\t5*9=45\t\n",
            ">>> dan = 6\n",
            "6*1=6\t6*2=12\t6*3=18\t6*4=24\t6*5=30\t6*6=36\t6*7=42\t6*8=48\t6*9=54\t\n",
            ">>> dan = 7\n",
            "7*1=7\t7*2=14\t7*3=21\t7*4=28\t7*5=35\t7*6=42\t7*7=49\t7*8=56\t7*9=63\t\n",
            ">>> dan = 8\n",
            "8*1=8\t8*2=16\t8*3=24\t8*4=32\t8*5=40\t8*6=48\t8*7=56\t8*8=64\t8*9=72\t\n",
            ">>> dan = 9\n",
            "9*1=9\t9*2=18\t9*3=27\t9*4=36\t9*5=45\t9*6=54\t9*7=63\t9*8=72\t9*9=81\t\n"
          ]
        }
      ]
    },
    {
      "cell_type": "code",
      "source": [
        "# 5단을 제외하고 출력한다면?\n",
        "for i in range(2, 10):\n",
        "  if i == 5:\n",
        "    continue\n",
        "  print('>>> dan = {}'.format(i))\n",
        "  for j in range(1,10):\n",
        "    print('{}*{}={}'.format(i, j, (i*j)), end=\"\\t\")\n",
        "  print()"
      ],
      "metadata": {
        "colab": {
          "base_uri": "https://localhost:8080/"
        },
        "id": "2HV7o6W-QiV4",
        "outputId": "da172626-c44b-40bd-f077-c988cfc8b580"
      },
      "execution_count": null,
      "outputs": [
        {
          "output_type": "stream",
          "name": "stdout",
          "text": [
            ">>> dan = 2\n",
            "2*1=2\t2*2=4\t2*3=6\t2*4=8\t2*5=10\t2*6=12\t2*7=14\t2*8=16\t2*9=18\t\n",
            ">>> dan = 3\n",
            "3*1=3\t3*2=6\t3*3=9\t3*4=12\t3*5=15\t3*6=18\t3*7=21\t3*8=24\t3*9=27\t\n",
            ">>> dan = 4\n",
            "4*1=4\t4*2=8\t4*3=12\t4*4=16\t4*5=20\t4*6=24\t4*7=28\t4*8=32\t4*9=36\t\n",
            ">>> dan = 6\n",
            "6*1=6\t6*2=12\t6*3=18\t6*4=24\t6*5=30\t6*6=36\t6*7=42\t6*8=48\t6*9=54\t\n",
            ">>> dan = 7\n",
            "7*1=7\t7*2=14\t7*3=21\t7*4=28\t7*5=35\t7*6=42\t7*7=49\t7*8=56\t7*9=63\t\n",
            ">>> dan = 8\n",
            "8*1=8\t8*2=16\t8*3=24\t8*4=32\t8*5=40\t8*6=48\t8*7=56\t8*8=64\t8*9=72\t\n",
            ">>> dan = 9\n",
            "9*1=9\t9*2=18\t9*3=27\t9*4=36\t9*5=45\t9*6=54\t9*7=63\t9*8=72\t9*9=81\t\n"
          ]
        }
      ]
    },
    {
      "cell_type": "code",
      "source": [
        "# 5단까지만 출력된다면?\n",
        "for i in range(2, 10):\n",
        "  print('>>> dan = {}'.format(i))\n",
        "  for j in range(1,10):\n",
        "    print('{}*{}={}'.format(i, j, (i*j)), end=\"\\t\")\n",
        "  if i == 5:\n",
        "    break\n",
        "  print()"
      ],
      "metadata": {
        "colab": {
          "base_uri": "https://localhost:8080/"
        },
        "id": "shusTmmWRNzq",
        "outputId": "173d5f27-bdb5-42d4-f62f-70ea9adabdea"
      },
      "execution_count": null,
      "outputs": [
        {
          "output_type": "stream",
          "name": "stdout",
          "text": [
            ">>> dan = 2\n",
            "2*1=2\t2*2=4\t2*3=6\t2*4=8\t2*5=10\t2*6=12\t2*7=14\t2*8=16\t2*9=18\t\n",
            ">>> dan = 3\n",
            "3*1=3\t3*2=6\t3*3=9\t3*4=12\t3*5=15\t3*6=18\t3*7=21\t3*8=24\t3*9=27\t\n",
            ">>> dan = 4\n",
            "4*1=4\t4*2=8\t4*3=12\t4*4=16\t4*5=20\t4*6=24\t4*7=28\t4*8=32\t4*9=36\t\n",
            ">>> dan = 5\n",
            "5*1=5\t5*2=10\t5*3=15\t5*4=20\t5*5=25\t5*6=30\t5*7=35\t5*8=40\t5*9=45\t"
          ]
        }
      ]
    },
    {
      "cell_type": "code",
      "source": [
        "# Quiz\n",
        "# 제공되는 데이터를 이중 루프구문을  이용하여\n",
        "# 행과 열의 값을 테이블 형태로 출력하시오.\n",
        "\n",
        "lst = [[1,2,3],[4,5,6,7],[8,9],[10,11,12,13,14]]\n",
        "for i in lst:\n",
        "  for j in i:\n",
        "    print(j, end=\"\\t\")\n",
        "  print()"
      ],
      "metadata": {
        "colab": {
          "base_uri": "https://localhost:8080/"
        },
        "id": "uX5bueMSSC18",
        "outputId": "a014c4ce-3995-4915-de2e-3781a65a95e2"
      },
      "execution_count": null,
      "outputs": [
        {
          "output_type": "stream",
          "name": "stdout",
          "text": [
            "1\t2\t3\t\n",
            "4\t5\t6\t7\t\n",
            "8\t9\t\n",
            "10\t11\t12\t13\t14\t\n"
          ]
        }
      ]
    },
    {
      "cell_type": "code",
      "source": [
        "lst = [[1,2,3],[4,5,6,7],[8,9],[10,11,12,13,14]]\n",
        "#for i in lst:\n",
        "#  for j in i:\n",
        "#    print(j, end=\"\\t\")\n",
        "#  print()\n",
        "\n",
        "# 인덱스를 이용해서 9을 찾고\n",
        "# 9 밑에 있는 11의 값을 출력하시오.\n",
        "\n",
        "for i in range(len(lst)):\n",
        "  for j in range(len(lst[i])):\n",
        "    print(lst[i][j], end = \"\\t\")\n",
        "  print()"
      ],
      "metadata": {
        "colab": {
          "base_uri": "https://localhost:8080/"
        },
        "id": "RgsBeC8xY9yU",
        "outputId": "13950088-6235-4afb-e694-9d7f9dd086e0"
      },
      "execution_count": null,
      "outputs": [
        {
          "output_type": "stream",
          "name": "stdout",
          "text": [
            "1\t2\t3\t\n",
            "4\t5\t6\t7\t\n",
            "8\t9\t\n",
            "10\t11\t12\t13\t14\t\n"
          ]
        }
      ]
    },
    {
      "cell_type": "code",
      "source": [
        "lst = [[1,2,3],[4,5,6,7],[8,9],[10,11,12,13,14]]\n",
        "for i in range(len(lst)):\n",
        "  for j in range(len(lst[i])):\n",
        "    if lst[i][j]== 9:\n",
        "      print('find-', lst[i+1][j])\n",
        "  print()"
      ],
      "metadata": {
        "colab": {
          "base_uri": "https://localhost:8080/"
        },
        "id": "WnWFzEBQcodS",
        "outputId": "0be1fcf0-7a71-4329-9711-41118151a3a4"
      },
      "execution_count": null,
      "outputs": [
        {
          "output_type": "stream",
          "name": "stdout",
          "text": [
            "\n",
            "\n",
            "find- 11\n",
            "\n",
            "\n"
          ]
        }
      ]
    },
    {
      "cell_type": "code",
      "source": [
        "# 문자열 루프구문\n",
        "str = 'siat'\n",
        "for idx in range(len(str)):\n",
        "  print(str[idx], end = '\\t')"
      ],
      "metadata": {
        "colab": {
          "base_uri": "https://localhost:8080/"
        },
        "id": "HcYUdwdPUaml",
        "outputId": "2584d4ee-ed13-44a7-bdcd-a9ade12c255a"
      },
      "execution_count": null,
      "outputs": [
        {
          "output_type": "stream",
          "name": "stdout",
          "text": [
            "s\ti\ta\tt\t"
          ]
        }
      ]
    },
    {
      "cell_type": "code",
      "source": [
        "string = \\\n",
        "'''\n",
        "저는 파이썬을 강의하고 있는 임정섭 입니다.\n",
        "주소는 서울 입니다.\n",
        "씨앗에서 교육 중입니다.\n",
        "'''\n",
        "print(string)\n",
        "\n",
        "# \\n: 개행\n"
      ],
      "metadata": {
        "colab": {
          "base_uri": "https://localhost:8080/"
        },
        "id": "I9iNYJh_dgy9",
        "outputId": "09596414-b621-4874-9284-ce1ad7c81cf6"
      },
      "execution_count": null,
      "outputs": [
        {
          "output_type": "stream",
          "name": "stdout",
          "text": [
            "\n",
            "저는 파이썬을 강의하고 있는 임정섭 입니다.\n",
            "주소는 서울 입니다.\n",
            "씨앗에서 교육 중입니다.\n",
            "\n"
          ]
        }
      ]
    },
    {
      "cell_type": "code",
      "source": [
        "# Quiz\n",
        "# 주어진 문자열에서 문장과 단어를 출력하시오\n",
        "# 문장의 갯수, 단어의 갯수도 출력\n",
        "# 출력예시) 문장들, 문장의 길이\n",
        "# 출력예시) 단어들, 단어의 갯수\n",
        "\n",
        "string = \\\n",
        "'''저는 파이썬을 강의하고 있는 임정섭 입니다.\n",
        "주소는 서울 입니다.\n",
        "씨앗에서 교육 중입니다.'''\n",
        "print(string)\n",
        "print()\n",
        "\n",
        "sentences=[]\n",
        "words =[]\n",
        "\n",
        "for sentence in string.split('\\n'):\n",
        "  sentences.append(sentence)\n",
        "  for word in sentence.split(' '):\n",
        "    words.append(word)\n",
        "\n",
        "print(sentences, len(sentences))\n",
        "print(words, len(words))"
      ],
      "metadata": {
        "colab": {
          "base_uri": "https://localhost:8080/"
        },
        "id": "vf4_7k6be9AG",
        "outputId": "ad0e7e7a-fd2c-42a7-cdfa-33015ec5bf16"
      },
      "execution_count": null,
      "outputs": [
        {
          "output_type": "stream",
          "name": "stdout",
          "text": [
            "저는 파이썬을 강의하고 있는 임정섭 입니다.\n",
            "주소는 서울 입니다.\n",
            "씨앗에서 교육 중입니다.\n",
            "\n",
            "['저는 파이썬을 강의하고 있는 임정섭 입니다.', '주소는 서울 입니다.', '씨앗에서 교육 중입니다.'] 3\n",
            "['저는', '파이썬을', '강의하고', '있는', '임정섭', '입니다.', '주소는', '서울', '입니다.', '씨앗에서', '교육', '중입니다.'] 12\n"
          ]
        }
      ]
    },
    {
      "cell_type": "code",
      "source": [
        "# Quiz\n",
        "# 분류정확도를 구해보고싶다.\n",
        "# 주어진 두개의 변수를 이용해서 예측결과 %로 출력하시오\n",
        "# 출력형식(분류정확도는 60%입니다.)\n",
        "\n",
        "answer  = [1,2,0,2,1,0,0,1,2,1]\n",
        "predict = [2,2,1,2,1,1,0,1,2,0]\n",
        "cnt = 0\n",
        "\n",
        "for i in range(len(predict)):\n",
        "  if answer[i] == predict[i]:\n",
        "    cnt +=1\n",
        "print()\n",
        "print('분류정확도는 {}%입니다.'.format(cnt/len(answer)*100))"
      ],
      "metadata": {
        "colab": {
          "base_uri": "https://localhost:8080/"
        },
        "id": "L1cXsTDRlUBK",
        "outputId": "6d5694be-9218-481a-c13f-f4d0434ccd1e"
      },
      "execution_count": null,
      "outputs": [
        {
          "output_type": "stream",
          "name": "stdout",
          "text": [
            "\n",
            "분류정확도는 60.0%입니다.\n"
          ]
        }
      ]
    },
    {
      "cell_type": "code",
      "source": [
        "# Quiz\n",
        "# 분류정확도를 구해보고싶다.\n",
        "# 주어진 두개의 변수를 이용해서 예측결과 %로 출력하시오\n",
        "# 출력형식(분류정확도는 60%입니다.)\n",
        "\n",
        "answer  = [1,2,0,2,1,0,0,1,2,1]\n",
        "predict = [2,2,1,2,1,1,0,1,2,0]\n",
        "cnt = 0\n",
        "\n",
        "for i in range(len(answer)): #range는 숫자만 받는다.\n",
        "  if answer[i] == predict[i] :\n",
        "    cnt+=1\n",
        "  print()\n",
        "print('분류정확도: {}%'.format(cnt/len(answer)*100))\n"
      ],
      "metadata": {
        "colab": {
          "base_uri": "https://localhost:8080/"
        },
        "id": "otANWeuawmZL",
        "outputId": "c6d5f8ca-f1a4-4a1c-9968-ba7551113f7f"
      },
      "execution_count": null,
      "outputs": [
        {
          "output_type": "stream",
          "name": "stdout",
          "text": [
            "\n",
            "\n",
            "\n",
            "\n",
            "\n",
            "\n",
            "\n",
            "\n",
            "\n",
            "\n",
            "분류정확도: 60.0%\n"
          ]
        }
      ]
    },
    {
      "cell_type": "code",
      "source": [],
      "metadata": {
        "id": "klak1U6_v_U2"
      },
      "execution_count": null,
      "outputs": []
    },
    {
      "cell_type": "code",
      "source": [
        "# 루프 구문(while~)\n",
        "# 구문형식)\n",
        "# while <expr>:\n",
        "# <statement>\n",
        "# 조건의 변화가 있어야 한다."
      ],
      "metadata": {
        "id": "mW03rrXqsIB8"
      },
      "execution_count": null,
      "outputs": []
    },
    {
      "cell_type": "code",
      "source": [
        "# Quiz\n",
        "# while 구문을 이용해서 '반복문'을 10번 출력하고 싶다면?\n",
        "\n",
        "cnt = 0\n",
        "\n",
        "while cnt< 10 : #True\n",
        "  print('반복문')\n",
        "  cnt+=1"
      ],
      "metadata": {
        "colab": {
          "base_uri": "https://localhost:8080/"
        },
        "id": "kiMXJXaUsuro",
        "outputId": "554315d1-658d-4808-add9-98789022ff3a"
      },
      "execution_count": null,
      "outputs": [
        {
          "output_type": "stream",
          "name": "stdout",
          "text": [
            "반복문\n",
            "반복문\n",
            "반복문\n",
            "반복문\n",
            "반복문\n",
            "반복문\n",
            "반복문\n",
            "반복문\n",
            "반복문\n",
            "반복문\n"
          ]
        }
      ]
    },
    {
      "cell_type": "code",
      "source": [
        "# Quiz\n",
        "# while 구문을 데이터 출력\n",
        "lst = ['foo', 'bar', 'baz']\n",
        "\n",
        "while lst:\n",
        "  print(lst.pop()) #순서대로 하고 싶을 경우, 0 기입"
      ],
      "metadata": {
        "colab": {
          "base_uri": "https://localhost:8080/"
        },
        "id": "dJOSwrUZuDLE",
        "outputId": "e89c546e-5a7b-4639-9513-f8a29f04c2e1"
      },
      "execution_count": null,
      "outputs": [
        {
          "output_type": "stream",
          "name": "stdout",
          "text": [
            "baz\n",
            "bar\n",
            "foo\n"
          ]
        }
      ]
    },
    {
      "cell_type": "code",
      "source": [
        "lst = ['foo', 'bar', 'baz']\n",
        "idx = 0\n",
        "while idx < len(lst):\n",
        "  print(lst[idx])\n",
        "  idx+=1"
      ],
      "metadata": {
        "colab": {
          "base_uri": "https://localhost:8080/"
        },
        "id": "W59kcS4Uvf3K",
        "outputId": "12a81009-cb28-45f1-a46d-a3f497432cdf"
      },
      "execution_count": null,
      "outputs": [
        {
          "output_type": "stream",
          "name": "stdout",
          "text": [
            "foo\n",
            "bar\n",
            "baz\n"
          ]
        }
      ]
    },
    {
      "cell_type": "code",
      "source": [
        "# Quiz\n",
        "# 아래 구문을 이용해서 데이터를 출력한다면?\n",
        "\n",
        "lst = ['foo', 'bar', 'baz']\n",
        "isFlag = True\n",
        "while isFlag :\n",
        "  if not lst :\n",
        "    isFlag = False\n",
        "    break\n",
        "  print(lst.pop())"
      ],
      "metadata": {
        "colab": {
          "base_uri": "https://localhost:8080/"
        },
        "id": "r584v1TEzY4X",
        "outputId": "d41d971d-cd35-464d-de76-5aca4c4ad4c3"
      },
      "execution_count": null,
      "outputs": [
        {
          "output_type": "stream",
          "name": "stdout",
          "text": [
            "baz\n",
            "bar\n",
            "foo\n"
          ]
        }
      ]
    },
    {
      "cell_type": "code",
      "source": [
        "from random import betavariate\n",
        "# while (break, continue)\n",
        "# 0~9 까지 반복하면서\n",
        "# 3을 만나면 계속 반복하고\n",
        "# 6을 만나면 반복문을 탈출하여 현재까지 진행된 데이터를 출력하시오.\n",
        "\n",
        "cnt = 0\n",
        "while cnt < 10:\n",
        "  if cnt ==3:\n",
        "    cnt +=1\n",
        "    continue\n",
        "  if cnt == 6:\n",
        "    break\n",
        "  print(cnt)\n",
        "  cnt +=1\n",
        "\n",
        "\n",
        "\n"
      ],
      "metadata": {
        "colab": {
          "base_uri": "https://localhost:8080/"
        },
        "id": "sn7ac2ho2SfD",
        "outputId": "9c2996b0-b084-4c70-979c-808afe43bb21"
      },
      "execution_count": null,
      "outputs": [
        {
          "output_type": "stream",
          "name": "stdout",
          "text": [
            "0\n",
            "1\n",
            "2\n",
            "4\n",
            "5\n"
          ]
        }
      ]
    },
    {
      "cell_type": "code",
      "source": [
        "#while ~else\n",
        "# 리스트에 없는 데이터를 찾고자할 때 '데이터가 없습니다' 메세지를 출력\n",
        "lst=['foo','bar','baz']\n",
        "idx = 0\n",
        "while idx < len(lst):\n",
        "  if lst[idx]=='foo':\n",
        "    print('데이터를 찾았습니다.')\n",
        "    break\n",
        "  idx += 1\n",
        "else:\n",
        "  print('데이터가 없습니다.')"
      ],
      "metadata": {
        "colab": {
          "base_uri": "https://localhost:8080/"
        },
        "id": "ZEHAGjV05JZO",
        "outputId": "b7075f17-ef79-4d5d-c7f3-34eea40aebb0"
      },
      "execution_count": null,
      "outputs": [
        {
          "output_type": "stream",
          "name": "stdout",
          "text": [
            "데이터를 찾았습니다.\n"
          ]
        }
      ]
    },
    {
      "cell_type": "code",
      "source": [
        "# Quiz\n",
        "# while 무한반복\n",
        "# input() 함수를 이용해서 숫자를 입력받는다.\n",
        "# 입력받은 숫자의 값이 0이면 무한반복을 탈출하고\n",
        "# 입력된 숫자를 출력하시오.\n",
        "\n",
        "lst=[]\n",
        "while True:\n",
        "  number = int(input(\"숫자를 입력하시오: \"))\n",
        "  if number == 0:\n",
        "    break\n",
        "  else:\n",
        "    lst.append(number)\n",
        "\n",
        "print()\n",
        "print(lst)"
      ],
      "metadata": {
        "colab": {
          "base_uri": "https://localhost:8080/"
        },
        "id": "gSr9Rrsk623T",
        "outputId": "9308c3cb-907f-4329-e62d-c761867361d8"
      },
      "execution_count": null,
      "outputs": [
        {
          "output_type": "stream",
          "name": "stdout",
          "text": [
            "숫자를 입력하시오: 5\n",
            "숫자를 입력하시오: 6\n",
            "숫자를 입력하시오: 0\n",
            "\n",
            "[5, 6]\n"
          ]
        }
      ]
    },
    {
      "cell_type": "code",
      "source": [],
      "metadata": {
        "id": "tsfGSWDV6-jP"
      },
      "execution_count": null,
      "outputs": []
    }
  ]
}