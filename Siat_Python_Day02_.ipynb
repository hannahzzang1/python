{
  "nbformat": 4,
  "nbformat_minor": 0,
  "metadata": {
    "colab": {
      "provenance": [],
      "authorship_tag": "ABX9TyPk84J2PT7MPBGqaRRMpXHg",
      "include_colab_link": true
    },
    "kernelspec": {
      "name": "python3",
      "display_name": "Python 3"
    },
    "language_info": {
      "name": "python"
    }
  },
  "cells": [
    {
      "cell_type": "markdown",
      "metadata": {
        "id": "view-in-github",
        "colab_type": "text"
      },
      "source": [
        "<a href=\"https://colab.research.google.com/github/hannahzzang1/python/blob/main/Siat_Python_Day02_.ipynb\" target=\"_parent\"><img src=\"https://colab.research.google.com/assets/colab-badge.svg\" alt=\"Open In Colab\"/></a>"
      ]
    },
    {
      "cell_type": "code",
      "execution_count": null,
      "metadata": {
        "colab": {
          "base_uri": "https://localhost:8080/"
        },
        "id": "y2auhU5kd8I1",
        "outputId": "704d61d6-9e6e-425c-d9a7-f63dafb0ee2f"
      },
      "outputs": [
        {
          "output_type": "stream",
          "name": "stdout",
          "text": [
            "type - <class 'str'>\n",
            "find -  17\n",
            "com - com\n",
            "com- com\n"
          ]
        }
      ],
      "source": [
        "# 문자열에서 도메인만 출력하시오.\n",
        "url = \"http://www.naver.com\"\n",
        "print ('type -' , type(url))\n",
        "\n",
        "print ('find - ', url.find('com'))\n",
        "print('com -' , url[-3:])\n",
        "print('com-', url[url.find('com'):])"
      ]
    },
    {
      "cell_type": "code",
      "source": [
        "companyName =  \"    삼성전자    \"\n",
        "print('length - ', len(companyName))\n",
        "print(companyName.lstrip(), len(companyName.lstrip()))\n",
        "print(companyName.rstrip(), len(companyName.rstrip()))\n",
        "print(companyName.strip(), len(companyName.strip()))"
      ],
      "metadata": {
        "colab": {
          "base_uri": "https://localhost:8080/"
        },
        "id": "ApVUo_XfebqF",
        "outputId": "10b4957d-0f04-4089-b083-3be56de68474"
      },
      "execution_count": null,
      "outputs": [
        {
          "output_type": "stream",
          "name": "stdout",
          "text": [
            "length -  12\n",
            "삼성전자     8\n",
            "    삼성전자 8\n",
            "삼성전자 4\n"
          ]
        }
      ]
    },
    {
      "cell_type": "code",
      "source": [
        "# 제공되는 문자열을 대문자로 변환하시오\n",
        "companyName = 'samsung'\n",
        "print('대문자 -', companyName. upper())"
      ],
      "metadata": {
        "colab": {
          "base_uri": "https://localhost:8080/"
        },
        "id": "Vf-lG2P5hb5O",
        "outputId": "a0b494be-4eb8-4172-9f24-bcdafd427718"
      },
      "execution_count": null,
      "outputs": [
        {
          "output_type": "stream",
          "name": "stdout",
          "text": [
            "대문자 - SAMSUNG\n"
          ]
        }
      ]
    },
    {
      "cell_type": "code",
      "source": [
        "# 제공되는 문자열에서 파일의 확장자가 xls, xlsx 파일인지를 확인하고 싶다.\n",
        "filename = 'report.xlsx'\n",
        "flag = filename.endswith(('xls', 'xlsx'))\n",
        "print('flag - ' , flag)"
      ],
      "metadata": {
        "colab": {
          "base_uri": "https://localhost:8080/"
        },
        "id": "CgTge-iXjRUe",
        "outputId": "4eccd76a-5045-4bee-c6ea-346ec074a0fe"
      },
      "execution_count": null,
      "outputs": [
        {
          "output_type": "stream",
          "name": "stdout",
          "text": [
            "flag -  True\n"
          ]
        }
      ]
    },
    {
      "cell_type": "code",
      "source": [
        "# in, not in 연산자\n",
        "# 제공되는 리스트에서 melon이 있는지 없는지 판단하고 싶다면?\n",
        "\n",
        "exLst =  ['apple', 'banana', 'durian', 'orange']\n",
        "print ('melon' not in exLst)\n"
      ],
      "metadata": {
        "colab": {
          "base_uri": "https://localhost:8080/"
        },
        "id": "DgNd1VVvl6B2",
        "outputId": "837712f9-0a04-43dc-d9ac-f5461d8bf728"
      },
      "execution_count": null,
      "outputs": [
        {
          "output_type": "stream",
          "name": "stdout",
          "text": [
            "True\n"
          ]
        }
      ]
    },
    {
      "cell_type": "code",
      "source": [
        "# 대용량의 데이터를 다루기 위한 중요한 변수타입은 list\n",
        "# array X ,\n",
        "# 순서, 중복, 수정, 삭제 가능\n",
        "# [] , list() ->  객체 사용 가능. Instance\n",
        "\n",
        "dummyLst = []\n",
        "print('type - ', type(dummyLst))\n",
        "print('data -', dummyLst)\n",
        "\n",
        "# 데이터 넣기\n",
        "dummyLst.append('A')\n",
        "dummyLst.append('B')\n",
        "print('append - ', dummyLst)\n",
        "dummyLst.insert(1,'C')\n",
        "print('insert - ' , dummyLst)\n",
        "print('pop -' , dummyLst.pop(1))\n",
        "print('data - ', dummyLst)\n",
        "print('특정 요소의 인덱스번지를 확인하고 싶다면? - index()')\n",
        "print('index - ', dummyLst.index('A'))\n",
        "\n"
      ],
      "metadata": {
        "colab": {
          "base_uri": "https://localhost:8080/"
        },
        "id": "dpVHgx1roFa_",
        "outputId": "c67cc3f3-b605-4ce6-ae1d-db24d028d22f"
      },
      "execution_count": null,
      "outputs": [
        {
          "output_type": "stream",
          "name": "stdout",
          "text": [
            "type -  <class 'list'>\n",
            "data - []\n",
            "append -  ['A', 'B']\n",
            "insert -  ['A', 'C', 'B']\n",
            "pop - C\n",
            "data -  ['A', 'B']\n",
            "특정 요소의 인덱스번지를 확인하고 싶다면? - index()\n",
            "index -  0\n"
          ]
        }
      ]
    },
    {
      "cell_type": "markdown",
      "source": [
        "실습"
      ],
      "metadata": {
        "id": "Of21oFvB8Pje"
      }
    },
    {
      "cell_type": "code",
      "source": [
        "# 실습\n",
        "MovierankLst= ['그루엘라', '랑종', '모가디슈', '블랙위도우', '강철비2', '반도', '킹덤']\n",
        "MovierankLst.append('배트맨')\n",
        "print(MovierankLst)\n",
        "\n",
        "MovierankLst.insert(2,'임정섭')\n",
        "print(MovierankLst)\n",
        "\n",
        "MovierankLst. pop((4))\n",
        "print(MovierankLst)\n",
        "\n",
        "MovierankLst.pop((3))\n",
        "MovierankLst.pop((3))\n",
        "print(MovierankLst)\n",
        "\n",
        "print(MovierankLst.index('그루엘라'))\n",
        "\n",
        "MovierankLst.pop((0))\n",
        "print(MovierankLst)\n",
        "\n",
        "print('최종리스트 출력 -', MovierankLst)\n",
        "\n",
        "\n"
      ],
      "metadata": {
        "colab": {
          "base_uri": "https://localhost:8080/"
        },
        "id": "3tnwF8I_tWJj",
        "outputId": "42903c8d-2f21-4046-f820-34feb679ff71"
      },
      "execution_count": null,
      "outputs": [
        {
          "output_type": "stream",
          "name": "stdout",
          "text": [
            "['그루엘라', '랑종', '모가디슈', '블랙위도우', '강철비2', '반도', '킹덤', '배트맨']\n",
            "['그루엘라', '랑종', '임정섭', '모가디슈', '블랙위도우', '강철비2', '반도', '킹덤', '배트맨']\n",
            "['그루엘라', '랑종', '임정섭', '모가디슈', '강철비2', '반도', '킹덤', '배트맨']\n",
            "['그루엘라', '랑종', '임정섭', '반도', '킹덤', '배트맨']\n",
            "0\n",
            "['랑종', '임정섭', '반도', '킹덤', '배트맨']\n",
            "최종리스트 출력 - ['랑종', '임정섭', '반도', '킹덤', '배트맨']\n"
          ]
        }
      ]
    },
    {
      "cell_type": "code",
      "source": [
        "MovierankLst= ['그루엘라', '랑종', '모가디슈', '블랙위도우', '강철비2', '반도', '킹덤']\n",
        "MovierankLst.append('배트맨')\n",
        "print(MovierankLst)\n",
        "\n",
        "MovierankLst.insert(2,'임정섭')\n",
        "print(MovierankLst)\n",
        "\n",
        "MovierankLst. pop((4))\n",
        "print(MovierankLst)\n",
        "\n",
        "del MovierankLst[3]\n",
        "del MovierankLst [3]\n",
        "print(MovierankLst)\n",
        "\n",
        "MovierankLst.pop(MovierankLst.index('그루엘라'))\n",
        "print(MovierankLst)\n",
        "\n",
        "print('최종리스트 출력 -', MovierankLst)\n"
      ],
      "metadata": {
        "colab": {
          "base_uri": "https://localhost:8080/"
        },
        "id": "BwYjL6Rj8hMr",
        "outputId": "4364c833-386c-4318-b7d7-7c38695156b1"
      },
      "execution_count": null,
      "outputs": [
        {
          "output_type": "stream",
          "name": "stdout",
          "text": [
            "['그루엘라', '랑종', '모가디슈', '블랙위도우', '강철비2', '반도', '킹덤', '배트맨']\n",
            "['그루엘라', '랑종', '임정섭', '모가디슈', '블랙위도우', '강철비2', '반도', '킹덤', '배트맨']\n",
            "['그루엘라', '랑종', '임정섭', '모가디슈', '강철비2', '반도', '킹덤', '배트맨']\n",
            "['그루엘라', '랑종', '임정섭', '반도', '킹덤', '배트맨']\n",
            "['랑종', '임정섭', '반도', '킹덤', '배트맨']\n",
            "최종리스트 출력 - ['랑종', '임정섭', '반도', '킹덤', '배트맨']\n"
          ]
        }
      ]
    },
    {
      "cell_type": "code",
      "source": [
        "numLst = [1,2,3,4,5,6,7]\n",
        "print('sum - ', sum(numLst))\n",
        "print('max - ', max(numLst))\n",
        "print('min - ', min(numLst))\n",
        "print('mean -', sum(numLst) / len(numLst))"
      ],
      "metadata": {
        "colab": {
          "base_uri": "https://localhost:8080/"
        },
        "id": "JZs8xe0b-vG7",
        "outputId": "a211a206-2c22-407b-f337-403a99781dc0"
      },
      "execution_count": null,
      "outputs": [
        {
          "output_type": "stream",
          "name": "stdout",
          "text": [
            "sum -  28\n",
            "max -  7\n",
            "min -  1\n",
            "mean - 4.0\n"
          ]
        }
      ]
    },
    {
      "cell_type": "code",
      "source": [
        "# range() : 숫자 sequence 함수\n",
        "tmpRange = range(10)\n",
        "print('data-', tmpRange)\n",
        "print('type-', type(tmpRange))\n",
        "\n",
        "# 반복구문(루프구문)\n",
        "# for ~ in 열거형변수 :\n",
        "# tab 키는 띄어쓰기 4번한 값! 들여쓰기 필수\n",
        "# print(), println()\n",
        "\n",
        "for x in tmpRange :\n",
        "  print(x, end=\"\\t\")\n",
        "print()\n",
        "print('loop 종료')\n",
        "\n"
      ],
      "metadata": {
        "colab": {
          "base_uri": "https://localhost:8080/"
        },
        "id": "tAO9Es_RBi9c",
        "outputId": "ad2ceb5b-8e5f-4e39-8fe2-57e50ba5e804"
      },
      "execution_count": null,
      "outputs": [
        {
          "output_type": "stream",
          "name": "stdout",
          "text": [
            "data- range(0, 10)\n",
            "type- <class 'range'>\n",
            "0\t1\t2\t3\t4\t5\t6\t7\t8\t9\t\n",
            "loop 종료\n"
          ]
        }
      ]
    },
    {
      "cell_type": "code",
      "source": [
        "tmpRange = range(1, 11, 2)\n",
        "print(type(tmpRange))\n",
        "for x in tmpRange :\n",
        "  print(x , end=\"\\t\")\n",
        "print()\n",
        "print(\"종료\")"
      ],
      "metadata": {
        "colab": {
          "base_uri": "https://localhost:8080/"
        },
        "id": "MON3PDRtY-3z",
        "outputId": "728175b4-dea7-44cc-99ea-98735796b799"
      },
      "execution_count": null,
      "outputs": [
        {
          "output_type": "stream",
          "name": "stdout",
          "text": [
            "<class 'range'>\n",
            "1\t3\t5\t7\t9\t\n",
            "종료\n"
          ]
        }
      ]
    },
    {
      "cell_type": "code",
      "source": [
        "flag = 10 in tmpRange\n",
        "print('flag - ' , flag)"
      ],
      "metadata": {
        "colab": {
          "base_uri": "https://localhost:8080/"
        },
        "id": "U9X8djPwa4Dx",
        "outputId": "bba36665-8b6a-41db-a59c-1c2ad9075a3e"
      },
      "execution_count": null,
      "outputs": [
        {
          "output_type": "stream",
          "name": "stdout",
          "text": [
            "flag -  False\n"
          ]
        }
      ]
    },
    {
      "cell_type": "code",
      "source": [
        "import random\n",
        "\n",
        "tmpLst = []\n",
        "for x in range(6) :\n",
        "  tmpLst.append(random. randint(1, 46))\n",
        "\n",
        "print ( tmpLst )"
      ],
      "metadata": {
        "colab": {
          "base_uri": "https://localhost:8080/"
        },
        "id": "tetppcV0bYTn",
        "outputId": "6151a6b9-a4d9-48a7-e776-e0aea157c771"
      },
      "execution_count": null,
      "outputs": [
        {
          "output_type": "stream",
          "name": "stdout",
          "text": [
            "[12, 8, 39, 6, 29, 4]\n"
          ]
        }
      ]
    },
    {
      "cell_type": "code",
      "source": [
        "# list comprehension\n",
        "# list 구문안에 for 구문과 if 을 구현할 수 있다.\n",
        "# 기존 리스트 안에서 처리된 결과를 다시 담는 구현 방식\n",
        "# 구문형식) [ 실행구문 for 변수 in 열거형객체 if 조건식 ]\n",
        "# Quiz\n",
        "# 리스트의 요소의 값을 제곱승한 값의 결과를 확인하고 싶다.\n",
        "\n",
        "\n",
        "lst = [2, 4 , 1, 5, 3]\n",
        "result = []\n",
        "\n",
        "for x in lst :\n",
        "  result.append( x ** 2)\n",
        "print()\n",
        "print( result )\n",
        "\n",
        "\n"
      ],
      "metadata": {
        "colab": {
          "base_uri": "https://localhost:8080/"
        },
        "id": "FG8EzehZdFeh",
        "outputId": "a657353c-15bf-4dd6-ab72-3e05f112168d"
      },
      "execution_count": null,
      "outputs": [
        {
          "output_type": "stream",
          "name": "stdout",
          "text": [
            "\n",
            "[4, 16, 1, 25, 9]\n"
          ]
        }
      ]
    },
    {
      "cell_type": "code",
      "source": [
        "result = [ x ** 2 for x in lst ]\n",
        "print( result )"
      ],
      "metadata": {
        "colab": {
          "base_uri": "https://localhost:8080/"
        },
        "id": "MOQdBKS7gx8m",
        "outputId": "5e425102-55cb-4949-efc4-4a2246d477b5"
      },
      "execution_count": null,
      "outputs": [
        {
          "output_type": "stream",
          "name": "stdout",
          "text": [
            "[4, 16, 1, 25, 9]\n"
          ]
        }
      ]
    },
    {
      "cell_type": "code",
      "source": [
        "# Quiz\n",
        "# range() 함수를 이용해서 1 ~ 100 사이의 3의 배수만 리스트에 담아서 출력하시오\n",
        "# 나머지값을 확인 (연산자 - 나머지연산자 % )\n",
        "# 조건처리 (제어구문)\n",
        "# if 조건문 or 데이터 :\n",
        "#   문장\n",
        "# else :\n",
        "#   문장\n",
        "\n"
      ],
      "metadata": {
        "id": "XKYfdIaXkS4A"
      },
      "execution_count": null,
      "outputs": []
    },
    {
      "cell_type": "code",
      "source": [
        "print (10 % 2 == 0)"
      ],
      "metadata": {
        "colab": {
          "base_uri": "https://localhost:8080/"
        },
        "id": "wfSi1sq2mtzg",
        "outputId": "f12c4770-2c8d-4a79-aa70-ce0adb8a9253"
      },
      "execution_count": null,
      "outputs": [
        {
          "output_type": "stream",
          "name": "stdout",
          "text": [
            "True\n"
          ]
        }
      ]
    },
    {
      "cell_type": "code",
      "source": [
        "res = []\n",
        "for x in range (1,101) :\n",
        "  if x % 3 == 0 :\n",
        "    res.append(x)\n",
        "print()\n",
        "print( res )"
      ],
      "metadata": {
        "colab": {
          "base_uri": "https://localhost:8080/"
        },
        "id": "fFwpf7sqnHah",
        "outputId": "cf10563a-39d9-495a-fab0-983a685898f9"
      },
      "execution_count": null,
      "outputs": [
        {
          "output_type": "stream",
          "name": "stdout",
          "text": [
            "\n",
            "[3, 6, 9, 12, 15, 18, 21, 24, 27, 30, 33, 36, 39, 42, 45, 48, 51, 54, 57, 60, 63, 66, 69, 72, 75, 78, 81, 84, 87, 90, 93, 96, 99]\n"
          ]
        }
      ]
    },
    {
      "cell_type": "code",
      "source": [
        "# for 앞의 x는 실행구문을 의미\n",
        "\n",
        "result = [ x for x in range(1, 101) if x%3 == 0]\n",
        "print(result)"
      ],
      "metadata": {
        "colab": {
          "base_uri": "https://localhost:8080/"
        },
        "id": "_NR7FKbHq2qR",
        "outputId": "445aac66-ec2d-449b-809c-13e40e35bff5"
      },
      "execution_count": null,
      "outputs": [
        {
          "output_type": "stream",
          "name": "stdout",
          "text": [
            "[3, 6, 9, 12, 15, 18, 21, 24, 27, 30, 33, 36, 39, 42, 45, 48, 51, 54, 57, 60, 63, 66, 69, 72, 75, 78, 81, 84, 87, 90, 93, 96, 99]\n"
          ]
        }
      ]
    },
    {
      "cell_type": "code",
      "source": [
        "# inner list\n",
        "# [[]]\n",
        "\n",
        "lst01 = ['a', 'b', 'c']\n",
        "lst02 = ['d', 'e', lst01]\n",
        "\n",
        "print(lst02)\n",
        "\n"
      ],
      "metadata": {
        "colab": {
          "base_uri": "https://localhost:8080/"
        },
        "id": "s9O_4t95sZae",
        "outputId": "6f0f99e2-2868-4038-d4e2-018d8119a3b6"
      },
      "execution_count": null,
      "outputs": [
        {
          "output_type": "stream",
          "name": "stdout",
          "text": [
            "['d', 'e', ['a', 'b', 'c']]\n"
          ]
        }
      ]
    },
    {
      "cell_type": "code",
      "source": [
        "lst01 = ['a', 'b', 'c']\n",
        "lst02 = ['d', 'e', lst01]\n",
        "\n",
        "print(lst02)\n",
        "print(lst02[-1][1])"
      ],
      "metadata": {
        "colab": {
          "base_uri": "https://localhost:8080/"
        },
        "id": "zYIE2cbZt0OW",
        "outputId": "e31ca993-8e72-48b5-9f59-6e7cb3fd182b"
      },
      "execution_count": null,
      "outputs": [
        {
          "output_type": "stream",
          "name": "stdout",
          "text": [
            "['d', 'e', ['a', 'b', 'c']]\n",
            "b\n"
          ]
        }
      ]
    }
  ]
}