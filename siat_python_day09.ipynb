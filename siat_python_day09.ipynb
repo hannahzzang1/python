{
  "nbformat": 4,
  "nbformat_minor": 0,
  "metadata": {
    "colab": {
      "provenance": [],
      "authorship_tag": "ABX9TyOR1napfk9IQeOHEAJYxEGN",
      "include_colab_link": true
    },
    "kernelspec": {
      "name": "python3",
      "display_name": "Python 3"
    },
    "language_info": {
      "name": "python"
    }
  },
  "cells": [
    {
      "cell_type": "markdown",
      "metadata": {
        "id": "view-in-github",
        "colab_type": "text"
      },
      "source": [
        "<a href=\"https://colab.research.google.com/github/hannahzzang1/python/blob/main/siat_python_day09.ipynb\" target=\"_parent\"><img src=\"https://colab.research.google.com/assets/colab-badge.svg\" alt=\"Open In Colab\"/></a>"
      ]
    },
    {
      "cell_type": "code",
      "execution_count": null,
      "metadata": {
        "id": "L8y9b1lsmqw1"
      },
      "outputs": [],
      "source": [
        "# zipcode.txt\n",
        "# input()함수를 이용해서 동 이름을 입력받아\n",
        "# 예) 개포\n",
        "# 해당 동의 주소를 출력하는 함수를 정의한다.\n",
        "# 파일을 읽는 방법 3가지 (read, readline, readlines)\n",
        "\n",
        "def searchAddr():\n",
        "  dong = input('동을 입력하세요:')\n",
        "  print('debug-', dong) #Q\n",
        "  result = []\n",
        "  try  :\n",
        "    with open('/content/zipcode.txt', 'r') as file: #stream 생성\n",
        "      line = file.readline() # 함수 read\n",
        "      while line:\n",
        "        address = line.split() # 리스트 반환\n",
        "        if address[3].startswith(dong) and address[3].endswith('동'): #Q\n",
        "          result.append(line)\n",
        "        line = file.readline() #Q\n",
        "  except Exception as e :\n",
        "    print('입력하신 동을 찾을 수 없습니다')\n",
        "\n",
        "  return result"
      ]
    },
    {
      "cell_type": "code",
      "source": [
        "lst = searchAddr()\n",
        "for addr in lst:\n",
        "  print(addr.strip('\\n'))"
      ],
      "metadata": {
        "colab": {
          "base_uri": "https://localhost:8080/"
        },
        "id": "Ekbo37WQoTKO",
        "outputId": "73d08df9-e285-4fae-a724-4fa0e7517683"
      },
      "execution_count": null,
      "outputs": [
        {
          "output_type": "stream",
          "name": "stdout",
          "text": [
            "동을 입력하세요.개포\n",
            "debug- 개포\n",
            "﻿135-806\t서울\t강남구\t개포1동 경남아파트\t\t1\n",
            "135-807\t서울\t강남구\t개포1동 우성3차아파트\t(1∼6동)\t2\n",
            "135-806\t서울\t강남구\t개포1동 우성9차아파트\t(901∼902동)\t3\n",
            "135-770\t서울\t강남구\t개포1동 주공아파트\t(1∼16동)\t4\n",
            "135-805\t서울\t강남구\t개포1동 주공아파트\t(17∼40동)\t5\n",
            "135-966\t서울\t강남구\t개포1동 주공아파트\t(41∼85동)\t6\n",
            "135-807\t서울\t강남구\t개포1동 주공아파트\t(86∼103동)\t7\n",
            "135-805\t서울\t강남구\t개포1동 주공아파트\t(104∼125동)\t8\n",
            "135-807\t서울\t강남구\t개포1동 현대1차아파트\t(101∼106동)\t9\n",
            "135-805\t서울\t강남구\t개포1동\t565\t10\n",
            "135-806\t서울\t강남구\t개포1동\t649∼651\t11\n",
            "135-807\t서울\t강남구\t개포1동\t652∼653\t12\n",
            "135-810\t서울\t강남구\t개포1동\t660\t13\n",
            "135-241\t서울\t강남구\t개포1동\t\t14\n",
            "135-800\t서울\t강남구\t개포2동 우성8차아파트\t(801∼803동)\t15\n",
            "135-771\t서울\t강남구\t개포2동 주공아파트\t(201∼232동)\t16\n",
            "135-800\t서울\t강남구\t개포2동 주공아파트\t(301∼325동)\t17\n",
            "135-772\t서울\t강남구\t개포2동 주공아파트\t(401∼415동)\t18\n",
            "135-800\t서울\t강남구\t개포2동 주공아파트\t(416∼458동)\t19\n",
            "135-992\t서울\t강남구\t개포2동 주공아파트\t(501∼506동)\t20\n",
            "135-993\t서울\t강남구\t개포2동 주공아파트\t(601∼609동)\t21\n",
            "135-993\t서울\t강남구\t개포2동 주공아파트\t(701∼708동)\t22\n",
            "135-800\t서울\t강남구\t개포2동 현대3차아파트\t(1∼5동)\t23\n",
            "135-800\t서울\t강남구\t개포2동\t94∼108\t24\n",
            "135-801\t서울\t강남구\t개포2동\t138\t25\n",
            "135-802\t서울\t강남구\t개포2동\t139∼140\t26\n",
            "135-800\t서울\t강남구\t개포2동\t152∼156\t27\n",
            "135-802\t서울\t강남구\t개포2동\t157∼169\t28\n",
            "135-800\t서울\t강남구\t개포2동\t170∼177\t29\n",
            "135-803\t서울\t강남구\t개포2동\t178\t30\n",
            "135-800\t서울\t강남구\t개포2동\t179∼180\t31\n",
            "135-993\t서울\t강남구\t개포2동\t181∼185\t32\n",
            "135-994\t서울\t강남구\t개포2동\t186∼187\t33\n",
            "135-804\t서울\t강남구\t개포2동\t188∼189\t34\n",
            "135-242\t서울\t강남구\t개포2동\t\t35\n",
            "135-773\t서울\t강남구\t개포4동 시영아파트\t(1∼25동)\t36\n",
            "135-809\t서울\t강남구\t개포4동 시영아파트\t(26∼30동)\t37\n",
            "135-809\t서울\t강남구\t개포4동 우성6차아파트\t(1∼8동)\t38\n",
            "135-808\t서울\t강남구\t개포4동 현대2차아파트\t(200∼220동)\t39\n",
            "135-808\t서울\t강남구\t개포4동\t654∼656\t40\n",
            "135-809\t서울\t강남구\t개포4동\t658\t41\n",
            "135-960\t서울\t강남구\t개포4동\t1055\t42\n",
            "135-960\t서울\t강남구\t개포4동\t1057\t43\n",
            "135-960\t서울\t강남구\t개포4동\t1163∼1166\t44\n",
            "135-961\t서울\t강남구\t개포4동\t1167∼1189\t45\n",
            "135-962\t서울\t강남구\t개포4동\t1190∼1218\t46\n",
            "135-963\t서울\t강남구\t개포4동\t1219∼1228\t47\n",
            "135-964\t서울\t강남구\t개포4동\t1229∼1243\t48\n",
            "135-965\t서울\t강남구\t개포4동\t1244∼1268\t49\n",
            "135-961\t서울\t강남구\t개포4동\t1271\t50\n",
            "135-962\t서울\t강남구\t개포4동\t1272\t51\n",
            "135-961\t서울\t강남구\t개포4동\t1273∼1274\t52\n",
            "135-244\t서울\t강남구\t개포4동\t\t53\n",
            "135-543\t서울\t강남구\t개포동 LG자이아파트\t(101∼104동)\t54\n",
            "135-988\t서울\t강남구\t개포동 SH공사\t\t55\n",
            "135-940\t서울\t강남구\t개포동 대청아파트\t\t56\n",
            "135-989\t서울\t강남구\t개포동 대청타워\t\t57\n",
            "135-797\t서울\t강남구\t개포동 대치아파트\t(101∼108동)\t58\n",
            "135-544\t서울\t강남구\t개포동 대치아파트\t(209∼219동)\t59\n",
            "135-240\t서울\t강남구\t개포동 서울강남우체국\t\t60\n",
            "135-939\t서울\t강남구\t개포동 서울수서경찰서\t\t61\n",
            "135-939\t서울\t강남구\t개포동\t12∼14\t62\n",
            "135-940\t서울\t강남구\t개포동\t18\t63\n",
            "135-240\t서울\t강남구\t개포동\t\t64\n"
          ]
        }
      ]
    },
    {
      "cell_type": "code",
      "source": [
        "# 학습목표 : 객체지향(OOP)\n",
        "# 실세계의 object는 변수(명사적 특징)와 함수(동사적 특징) 포함\n",
        "# Real World: object -> class(template) ->  P/G: instance (object!=instance)\n",
        "# class에 정의된 변수, 메서드는 class가 아닌 instance의 소유\n",
        "# instance 생성 -> 변수, 메서드 접근 가능\n",
        "# class 는 응집도(responsibility)가 높다.\n",
        "# 여러 class가 존재 -> 각 class간 관계 -> 결합도(coupling)\n",
        "# 강한 응집도, 낮은 결합도(loose coupling) 지향\n",
        "\n",
        "# class vs instance\n",
        "# 함수 < 클래스(변수, 메서드) < 모듈 < 패키지\n",
        "# 함수는 단독 실행, 클래스 내 변수 등은 불가\n",
        "# 객체지향) class에 정의된 변수, 메서드는 class가 아닌 instance의 소유\n",
        "# 클래스란?\n",
        "'''\n",
        "여러 개의 함수와 공유자료(변수)를 묶어서 관리하는 템플릿\n",
        "구성: 변수 + 메서드 + 생성자(초기화)\n",
        "구문형식 )\n",
        "class 클래스 이름:\n",
        "  변수\n",
        "  생성자()\n",
        "  메서드()\n",
        "'''"
      ],
      "metadata": {
        "colab": {
          "base_uri": "https://localhost:8080/",
          "height": 54
        },
        "id": "fPZjT3XNuFhd",
        "outputId": "70667562-3a6f-46f0-8e8b-993ec2e3b732"
      },
      "execution_count": null,
      "outputs": [
        {
          "output_type": "execute_result",
          "data": {
            "text/plain": [
              "'\\n여러 개의 함수와 공유자료(변수)를 묶어서 관리하는 템플릿\\n구성: 변수 + 메서드 + 생성자(초기화)\\n구문형식 ) \\nclass 클래스 이름:\\n  변수\\n  생성자()\\n  메서드()\\n'"
            ],
            "application/vnd.google.colaboratory.intrinsic+json": {
              "type": "string"
            }
          },
          "metadata": {},
          "execution_count": 39
        }
      ]
    },
    {
      "cell_type": "code",
      "source": [
        "class Person: # class 첫 letter는 대문자 # Pascal case\n",
        "\n",
        "  # 전역변수 선언으로 보이지만 인스턴스 소유가 아닌 클래스 소유변수\n",
        "  name = '임정섭'\n",
        "\n",
        "  # initializer == constructor == 생성자\n",
        "  # magic function __xxxx__()\n",
        "  def __init__(self): # 생성자\n",
        "    self.name = '씨앗' #instance 소유의 변수\n",
        "\n",
        "  def personInfo(self): #메서드\n",
        "    print('당신의 이름은 {} 입니다.'.format(self.name))"
      ],
      "metadata": {
        "id": "OFDW6tOK7m0H"
      },
      "execution_count": null,
      "outputs": []
    },
    {
      "cell_type": "code",
      "source": [
        "# 클래스 소유의 멤버(변수, 메서드) 접근\n",
        "print(Person.name)\n",
        "\n",
        "# 인스턴스 생성 후 접근\n",
        "person = Person() # person은 instance, Person()는 생성자(initializer) 호출 -> 객체 생성\n",
        "print(person.name) # print(instance.변수)\n",
        "person.personInfo()"
      ],
      "metadata": {
        "colab": {
          "base_uri": "https://localhost:8080/"
        },
        "id": "ri-Wl-MS-XtM",
        "outputId": "e7f77ca5-0c23-48d6-d2b2-cf0e59568ec7"
      },
      "execution_count": null,
      "outputs": [
        {
          "output_type": "stream",
          "name": "stdout",
          "text": [
            "임정섭\n",
            "씨앗\n",
            "당신의 이름은 씨앗 입니다.\n"
          ]
        }
      ]
    },
    {
      "cell_type": "code",
      "source": [
        "class Car :\n",
        "  def __init__(self, m): #생성자\n",
        "    self.model = m\n",
        "\n",
        "  def dreamCar(self): #메서드\n",
        "    print('당신의 가지고 싶은 드림카는 {}입니다.'.format(self.model))"
      ],
      "metadata": {
        "id": "P6pAWZ5CKpBO"
      },
      "execution_count": null,
      "outputs": []
    },
    {
      "cell_type": "code",
      "source": [
        "car = Car('BMW-7')\n",
        "car.dreamCar()"
      ],
      "metadata": {
        "colab": {
          "base_uri": "https://localhost:8080/"
        },
        "id": "ExmnzOBeKst6",
        "outputId": "37019492-c73e-4677-b5b2-7e9ec119966c"
      },
      "execution_count": null,
      "outputs": [
        {
          "output_type": "stream",
          "name": "stdout",
          "text": [
            "당신의 가지고 싶은 드림카는 BMW-7입니다.\n"
          ]
        }
      ]
    },
    {
      "cell_type": "code",
      "source": [
        "class Employee:\n",
        "  def __init__(self, n, s):\n",
        "    self.name = n\n",
        "    self.salary = s #Q\n",
        "\n",
        "  def getSalary(self) :\n",
        "    return self.salary #Q\n",
        "\n",
        "  def incrementSalary(self, rate):\n",
        "    self.salary = self.salary*rate\n",
        "\n",
        "  def printEmp(self):\n",
        "    print('당신의 이름은 {}이고 급여는 {}입니다.'.format(self.name, self.salary))"
      ],
      "metadata": {
        "id": "6dqbu6ZAWDcd"
      },
      "execution_count": null,
      "outputs": []
    },
    {
      "cell_type": "code",
      "source": [
        "# 이름, 급여 전달해서 객체 생성\n",
        "employee = Employee('섭섭해', 500) # 객체 생성\n",
        "\n",
        "# print('address-', employee)\n",
        "print('급여 - ', employee.getSalary())\n",
        "\n",
        "# print('직원정보 조회')\n",
        "employee.printEmp()\n",
        "\n",
        "# 급여를 10% 인상\n",
        "employee.incrementSalary(1.1)\n",
        "\n",
        "print('인상 후 급여 - ', employee.getSalary()) #Q\n",
        "\n",
        "# print('직원정보 조회')\n",
        "employee.printEmp()"
      ],
      "metadata": {
        "colab": {
          "base_uri": "https://localhost:8080/"
        },
        "id": "SZFfrspIRru3",
        "outputId": "b0c53c06-cdd3-4411-c911-15a04c50f4a4"
      },
      "execution_count": null,
      "outputs": [
        {
          "output_type": "stream",
          "name": "stdout",
          "text": [
            "급여 -  500\n",
            "당신의 이름은 섭섭해이고 급여는 500입니다.\n",
            "인상 후 급여 -  550.0\n",
            "당신의 이름은 섭섭해이고 급여는 550.0입니다.\n"
          ]
        }
      ]
    },
    {
      "cell_type": "code",
      "source": [
        "employee2 = Employee('최은정', 1000)\n",
        "\n",
        "print('급여 - ', employee2.getSalary())\n",
        "\n",
        "# print('직원정보 조회')\n",
        "employee.printEmp()\n",
        "\n",
        "# print('직원정보 조회')\n",
        "employee2.printEmp()\n"
      ],
      "metadata": {
        "colab": {
          "base_uri": "https://localhost:8080/"
        },
        "id": "h73bh0kJVYX4",
        "outputId": "6c514268-cfca-4935-a9a3-b6fbc42a2821"
      },
      "execution_count": null,
      "outputs": [
        {
          "output_type": "stream",
          "name": "stdout",
          "text": [
            "급여 -  1000\n",
            "당신의 이름은 섭섭해이고 급여는 550.0입니다.\n",
            "당신의 이름은 최은정이고 급여는 1000입니다.\n"
          ]
        }
      ]
    },
    {
      "cell_type": "code",
      "source": [],
      "metadata": {
        "id": "NFa_UYCUy1Va"
      },
      "execution_count": null,
      "outputs": []
    }
  ]
}