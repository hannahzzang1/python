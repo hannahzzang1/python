{
  "nbformat": 4,
  "nbformat_minor": 0,
  "metadata": {
    "colab": {
      "provenance": [],
      "authorship_tag": "ABX9TyNqCSQtEHeohjjWPQJ4Fvff",
      "include_colab_link": true
    },
    "kernelspec": {
      "name": "python3",
      "display_name": "Python 3"
    },
    "language_info": {
      "name": "python"
    }
  },
  "cells": [
    {
      "cell_type": "markdown",
      "metadata": {
        "id": "view-in-github",
        "colab_type": "text"
      },
      "source": [
        "<a href=\"https://colab.research.google.com/github/hannahzzang1/python/blob/main/siat_python_day03.ipynb\" target=\"_parent\"><img src=\"https://colab.research.google.com/assets/colab-badge.svg\" alt=\"Open In Colab\"/></a>"
      ]
    },
    {
      "cell_type": "markdown",
      "source": [
        "튜플(tuple)\n",
        "- 읽기전용\n",
        "- 순서, 중복 허용\n",
        "- 수정, 삭제 불가\n",
        "- 필요에 따라서 데이터를 조작해야 할 경우 형변화 (Casting 연산자)\n",
        "- indexing, slicing\n",
        "- 선언 : (), tuple()\n",
        "- Packing & Unpacking\n"
      ],
      "metadata": {
        "id": "fqxGJBAsfszf"
      }
    },
    {
      "cell_type": "code",
      "execution_count": null,
      "metadata": {
        "colab": {
          "base_uri": "https://localhost:8080/"
        },
        "id": "vD_VnKTva-2R",
        "outputId": "623dca8d-b10d-49e6-c91f-2db77ff9f97a"
      },
      "outputs": [
        {
          "output_type": "stream",
          "name": "stdout",
          "text": [
            "type -  <class 'tuple'>\n"
          ]
        }
      ],
      "source": [
        "tmpTuple = (3,)\n",
        "print('type - ', type(tmpTuple))"
      ]
    },
    {
      "cell_type": "code",
      "source": [
        "tmpTuple = 1, 2, 3, 4, 5, 6, 2\n",
        "print('type - ', type(tmpTuple))\n",
        "print('indexing -', tmpTuple[0])\n",
        "print('slicing -', tmpTuple[0:2])"
      ],
      "metadata": {
        "colab": {
          "base_uri": "https://localhost:8080/"
        },
        "id": "3wn-ZdU2hbBJ",
        "outputId": "6857b9f2-dea8-48b9-e17b-af4e6ba96a47"
      },
      "execution_count": null,
      "outputs": [
        {
          "output_type": "stream",
          "name": "stdout",
          "text": [
            "type -  <class 'tuple'>\n",
            "indexing - 1\n",
            "slicing - (1, 2)\n"
          ]
        }
      ]
    },
    {
      "cell_type": "code",
      "source": [
        "# error\n",
        "print('count -', tmpTuple.count(6))\n",
        "print('index -', tmpTuple.index(6))"
      ],
      "metadata": {
        "colab": {
          "base_uri": "https://localhost:8080/"
        },
        "id": "af3rcGWeiYtR",
        "outputId": "28590446-638d-4e0e-fe8e-07ca8fa1d455"
      },
      "execution_count": null,
      "outputs": [
        {
          "output_type": "stream",
          "name": "stdout",
          "text": [
            "count - 1\n",
            "index - 5\n"
          ]
        }
      ]
    },
    {
      "cell_type": "code",
      "source": [
        "#Quiz\n",
        "# casting 생각\n",
        "# 튜플: 순서가 있으며 변경할 수 없는 값들의 집합\n",
        "# 우리가 생성한 튜플의 요소의 값이 4인 데이터를 10으로 변경하고 결과를 확인하시오.\n",
        "\n",
        "tmpLst = list(tmpTuple) #형변환\n",
        "print('type - ', type(tmpLst))\n",
        "\n",
        "tmpLst[tmpLst.index(4)] = 10\n",
        "print('data - ', tmpTuple)\n",
        "print('data - ', tmpLst)"
      ],
      "metadata": {
        "colab": {
          "base_uri": "https://localhost:8080/"
        },
        "id": "iqsr_PzGkiou",
        "outputId": "8c1b4ce7-4862-4ff6-8cf1-6dad1918e347"
      },
      "execution_count": null,
      "outputs": [
        {
          "output_type": "stream",
          "name": "stdout",
          "text": [
            "type -  <class 'list'>\n",
            "data -  (1, 2, 3, 4, 5, 6, 2)\n",
            "data -  [1, 2, 3, 10, 5, 6, 2]\n"
          ]
        }
      ]
    },
    {
      "cell_type": "code",
      "source": [
        "data = tuple(range(2, 100, 2))\n",
        "print('type - ', type(data))\n",
        "# 1~99 까지의 정수 중 짝수만 튜플에 담아서 출력하시오\n",
        "print('data - ', data)\n"
      ],
      "metadata": {
        "colab": {
          "base_uri": "https://localhost:8080/"
        },
        "id": "YBz2x3b4qc3J",
        "outputId": "004a4480-b9eb-4364-bec4-29cb3e6393b6"
      },
      "execution_count": null,
      "outputs": [
        {
          "output_type": "stream",
          "name": "stdout",
          "text": [
            "type -  <class 'tuple'>\n",
            "data -  (2, 4, 6, 8, 10, 12, 14, 16, 18, 20, 22, 24, 26, 28, 30, 32, 34, 36, 38, 40, 42, 44, 46, 48, 50, 52, 54, 56, 58, 60, 62, 64, 66, 68, 70, 72, 74, 76, 78, 80, 82, 84, 86, 88, 90, 92, 94, 96, 98)\n"
          ]
        }
      ]
    },
    {
      "cell_type": "code",
      "source": [
        "packing = ('박신형', '김도균', '조영서', '임지연')\n",
        "print('data - ', packing)\n",
        "p, k, j, l = packing\n",
        "print('data - ', p)\n",
        "print('data - ', k)\n",
        "print('data - ', j)\n",
        "print('data - ', l)\n",
        "print()\n",
        "print('당신의 이름은 {} 입니다.'. format(p))\n",
        "print('당신의 이름은 {} 입니다.'. format(k))\n",
        "print('당신의 이름은 {} 입니다.'. format(j))\n",
        "print('당신의 이름은 {} 입니다.'. format(l))"
      ],
      "metadata": {
        "colab": {
          "base_uri": "https://localhost:8080/"
        },
        "id": "_TgLG2DIq7OE",
        "outputId": "6e84ec51-90d7-4a35-87c4-96a35d11202f"
      },
      "execution_count": null,
      "outputs": [
        {
          "output_type": "stream",
          "name": "stdout",
          "text": [
            "data -  ('박신형', '김도균', '조영서', '임지연')\n",
            "data -  박신형\n",
            "data -  김도균\n",
            "data -  조영서\n",
            "data -  임지연\n",
            "\n",
            "당신의 이름은 박신형 입니다.\n",
            "당신의 이름은 김도균 입니다.\n",
            "당신의 이름은 조영서 입니다.\n",
            "당신의 이름은 임지연 입니다.\n"
          ]
        }
      ]
    },
    {
      "cell_type": "code",
      "source": [
        "# 부분적으로 unpacking 하는법 = *all\n",
        "p, k, *all = packing\n",
        "print('당신의 이름은 {} 입니다.'. format(p))\n",
        "\n",
        "# tuple이 아닌 list 로 반환되는 것을 확인할 수 있다.\n",
        "print(all)"
      ],
      "metadata": {
        "colab": {
          "base_uri": "https://localhost:8080/"
        },
        "id": "YrnIYvTTvZg9",
        "outputId": "0806d984-37a5-45c5-c3c3-0326354a211b"
      },
      "execution_count": null,
      "outputs": [
        {
          "output_type": "stream",
          "name": "stdout",
          "text": [
            "당신의 이름은 박신형 입니다.\n",
            "['조영서', '임지연']\n"
          ]
        }
      ]
    },
    {
      "cell_type": "markdown",
      "source": [
        "딕셔너리(dict)\n",
        "- 범용적으로 많이 사용되는 변수\n",
        "- 순서, 키 중복 허용하지 않음\n",
        "- 수정, 삭제 가능\n",
        "- key : value\n",
        "- 선언 : {}, dict()\n"
      ],
      "metadata": {
        "id": "IV-sGCebw686"
      }
    },
    {
      "cell_type": "code",
      "source": [
        "dict01 = {\n",
        "    'name'  : 'Lim' ,\n",
        "    'phone' : '010-xxxx-xxxx' ,\n",
        "    'birth' : '030831'\n",
        "}\n",
        "print('type - ', type(dict01))\n",
        "print('data - ', dict01)\n"
      ],
      "metadata": {
        "colab": {
          "base_uri": "https://localhost:8080/"
        },
        "id": "TxLb4p7Kv3LC",
        "outputId": "59dcbcb5-25c4-4de7-b500-27cf10f1e331"
      },
      "execution_count": null,
      "outputs": [
        {
          "output_type": "stream",
          "name": "stdout",
          "text": [
            "type -  <class 'dict'>\n",
            "data -  {'name': 'Lim', 'phone': '010-xxxx-xxxx', 'birth': '030831'}\n"
          ]
        }
      ]
    },
    {
      "cell_type": "code",
      "source": [
        "# 키 유무 판단하기\n",
        "# in (dict type 내에서는 키 유무 판단)\n",
        "\n",
        "print('name' in dict01)"
      ],
      "metadata": {
        "colab": {
          "base_uri": "https://localhost:8080/"
        },
        "id": "9FlEvE_Z48rU",
        "outputId": "25c25656-acef-47e9-b04b-fb7363084cd1"
      },
      "execution_count": null,
      "outputs": [
        {
          "output_type": "stream",
          "name": "stdout",
          "text": [
            "True\n"
          ]
        }
      ]
    },
    {
      "cell_type": "code",
      "source": [
        "# 데이터 수정\n",
        "dict01['name'] = 'Park'\n",
        "print(dict01)"
      ],
      "metadata": {
        "colab": {
          "base_uri": "https://localhost:8080/"
        },
        "id": "UK2yO2IZ5U7h",
        "outputId": "67a6cdf1-2a70-4acc-931b-33d5309fd341"
      },
      "execution_count": null,
      "outputs": [
        {
          "output_type": "stream",
          "name": "stdout",
          "text": [
            "{'name': 'Park', 'phone': '010-xxxx-xxxx', 'birth': '030831'}\n"
          ]
        }
      ]
    },
    {
      "cell_type": "code",
      "source": [
        "items = {\n",
        "    '메로나' : [300, 20] ,\n",
        "    '비비빅' : [400, 20] ,\n",
        "    '죠스바' : [100, 50] ,\n",
        "}\n",
        "print('data - ', items)"
      ],
      "metadata": {
        "colab": {
          "base_uri": "https://localhost:8080/"
        },
        "id": "2ghmECWm8SJN",
        "outputId": "ac89f8da-89f8-4afb-916f-88b1dca2e494"
      },
      "execution_count": null,
      "outputs": [
        {
          "output_type": "stream",
          "name": "stdout",
          "text": [
            "data -  {'메로나': [300, 20], '비비빅': [400, 20], '죠스바': [100, 50]}\n"
          ]
        }
      ]
    },
    {
      "cell_type": "code",
      "source": [
        "# Quiz\n",
        "# 메로나의 가격을 출력하시오.\n",
        "\n",
        "items['메로나'][0]"
      ],
      "metadata": {
        "colab": {
          "base_uri": "https://localhost:8080/"
        },
        "id": "ts_pVYl88Sag",
        "outputId": "5b4f907a-b417-4008-b63d-f477283be9b5"
      },
      "execution_count": null,
      "outputs": [
        {
          "output_type": "execute_result",
          "data": {
            "text/plain": [
              "300"
            ]
          },
          "metadata": {},
          "execution_count": 79
        }
      ]
    },
    {
      "cell_type": "code",
      "source": [
        "items = {\n",
        "    '메로나' : {'price' : 300, 'qty' : 20} ,\n",
        "    '비비빅' : [400, 20] ,\n",
        "    '죠스바' : [100, 50] ,\n",
        "}\n",
        "print('data - ', items)"
      ],
      "metadata": {
        "colab": {
          "base_uri": "https://localhost:8080/"
        },
        "id": "So35ofwP552z",
        "outputId": "12421190-60fc-44f4-feb0-c14761f0ed61"
      },
      "execution_count": null,
      "outputs": [
        {
          "output_type": "stream",
          "name": "stdout",
          "text": [
            "data -  {'메로나': {'price': 300, 'qty': 20}, '비비빅': [400, 20], '죠스바': [100, 50]}\n"
          ]
        }
      ]
    },
    {
      "cell_type": "code",
      "source": [
        "# Quiz\n",
        "# 메로나의 가격을 출력하시오.\n",
        "\n",
        "print('메로나의 가격은 {} 입니다'.format(items['메로나']['price']))"
      ],
      "metadata": {
        "colab": {
          "base_uri": "https://localhost:8080/"
        },
        "id": "Xc999SMr6UhK",
        "outputId": "de666d72-4409-4a9f-b4fa-06633c114268"
      },
      "execution_count": null,
      "outputs": [
        {
          "output_type": "stream",
          "name": "stdout",
          "text": [
            "메로나의 가격은 300 입니다\n"
          ]
        }
      ]
    },
    {
      "cell_type": "code",
      "source": [
        "# Quiz\n",
        "# 메로나의 수량을 100개로 수정하고 결과를 확인하시오\n",
        "\n",
        "items['메로나']['qty'] = 100\n",
        "print(items['메로나'])"
      ],
      "metadata": {
        "colab": {
          "base_uri": "https://localhost:8080/"
        },
        "id": "Pa5ocqRz9AhV",
        "outputId": "de1b3126-36af-445a-99b9-671138a58eff"
      },
      "execution_count": null,
      "outputs": [
        {
          "output_type": "stream",
          "name": "stdout",
          "text": [
            "{'price': 300, 'qty': 100}\n"
          ]
        }
      ]
    },
    {
      "cell_type": "code",
      "source": [
        "# Quiz\n",
        "# 새로운 상품을 출시하고자한다.\n",
        "# 새로운 상품의 이름은 녹차바이고 가격은 100원이고 수량은 10개로 한다.\n",
        "# 추가된 상품을 포함하는 items 를 출력하시오\n",
        "\n",
        "items['녹차바'] = [100, 10]\n",
        "print(items)"
      ],
      "metadata": {
        "colab": {
          "base_uri": "https://localhost:8080/"
        },
        "id": "K90auU0L-wH4",
        "outputId": "905b665b-a0f0-402d-d042-a7dd2ee5f9d1"
      },
      "execution_count": null,
      "outputs": [
        {
          "output_type": "stream",
          "name": "stdout",
          "text": [
            "{'메로나': {'price': 300, 'qty': 100}, '비비빅': [400, 20], '죠스바': [100, 50], '녹차바': [100, 10]}\n"
          ]
        }
      ]
    },
    {
      "cell_type": "code",
      "source": [
        "# Quiz\n",
        "# 메로나의 가격을 10% 인상하여 데이터를 확인하시오\n",
        "\n",
        "items['메로나']['price'] = int(items['메로나']['price'] * 1.1)\n",
        "print(items)"
      ],
      "metadata": {
        "colab": {
          "base_uri": "https://localhost:8080/"
        },
        "id": "u-qqa0W0DU8S",
        "outputId": "8dd7b43d-27a7-4ca1-8570-e85b3882c207"
      },
      "execution_count": null,
      "outputs": [
        {
          "output_type": "stream",
          "name": "stdout",
          "text": [
            "{'메로나': {'price': 330, 'qty': 20}, '비비빅': [400, 20], '죠스바': [100, 50]}\n"
          ]
        }
      ]
    },
    {
      "cell_type": "code",
      "source": [
        "# 두 개의 튜플형식의 데이터를 딕셔너리형식으로 만들어 출력한다면?\n",
        "# zip() 함수\n",
        "keys = ('apple', 'pear', 'peaches')\n",
        "vals = (1000, 2000, 3000)\n",
        "\n",
        "zipDict = dict(zip(keys, vals))\n",
        "print(zipDict)\n",
        "\n"
      ],
      "metadata": {
        "colab": {
          "base_uri": "https://localhost:8080/"
        },
        "id": "nwEQNwVoE0A4",
        "outputId": "408560b8-2053-4f45-d5d1-f22fdb774e43"
      },
      "execution_count": null,
      "outputs": [
        {
          "output_type": "stream",
          "name": "stdout",
          "text": [
            "{'apple': 1000, 'pear': 2000, 'peaches': 3000}\n"
          ]
        }
      ]
    },
    {
      "cell_type": "code",
      "source": [
        "# Dict 이 가지고 있는 함수\n",
        "# keys(), values(), items()\n",
        "for key in zipDict.keys() :\n",
        "  print(key)\n",
        "print()\n",
        "for value in zipDict.values() :\n",
        "  print(value)\n",
        "print()\n",
        "for key, value in zipDict.items() :\n",
        "  print(key, value)\n"
      ],
      "metadata": {
        "colab": {
          "base_uri": "https://localhost:8080/"
        },
        "id": "hsRaElxYGlei",
        "outputId": "ab76329e-8778-4c23-d02c-c94326f1a38a"
      },
      "execution_count": null,
      "outputs": [
        {
          "output_type": "stream",
          "name": "stdout",
          "text": [
            "apple\n",
            "pear\n",
            "peaches\n",
            "\n",
            "1000\n",
            "2000\n",
            "3000\n",
            "\n",
            "apple 1000\n",
            "pear 2000\n",
            "peaches 3000\n"
          ]
        }
      ]
    },
    {
      "cell_type": "code",
      "source": [
        "# Quiz\n",
        "# 단어의 빈도수를 구한다면?\n",
        "# 출력예시) {'love' : 2, ~~}\n",
        "\n",
        "wordLst = ['love', 'dog', 'cat', 'love', 'word', 'horse', 'dog', 'dog', 'cat']\n",
        "result = {}\n"
      ],
      "metadata": {
        "id": "p8UUWfRqMeiN"
      },
      "execution_count": null,
      "outputs": []
    },
    {
      "cell_type": "code",
      "source": [
        "print('case01 - ')\n",
        "for word in wordLst :\n",
        "  if word in result :\n",
        "    result[word] += 1\n",
        "  else :\n",
        "    result[word] = 1\n",
        "print(result)"
      ],
      "metadata": {
        "colab": {
          "base_uri": "https://localhost:8080/"
        },
        "id": "_63rOJeGgv2C",
        "outputId": "ecabf0c7-0aaf-4be8-a1e7-1ee6f09e5ada"
      },
      "execution_count": null,
      "outputs": [
        {
          "output_type": "stream",
          "name": "stdout",
          "text": [
            "case01 - \n",
            "{'word': 2, 'horse': 2, 'love': 4, 'cat': 4, 'dog': 6}\n"
          ]
        }
      ]
    },
    {
      "cell_type": "code",
      "source": [
        "print('case02 - ')\n",
        "result.clear()\n",
        "for word in wordLst :\n",
        "  result[word] = result.get(word,0) + 1\n",
        "print(result)"
      ],
      "metadata": {
        "colab": {
          "base_uri": "https://localhost:8080/"
        },
        "id": "5YdSAC6mjJp7",
        "outputId": "3330a7ad-b8e1-4005-e355-7d9e3be74844"
      },
      "execution_count": null,
      "outputs": [
        {
          "output_type": "stream",
          "name": "stdout",
          "text": [
            "case02 - \n",
            "{'love': 2, 'dog': 3, 'cat': 2, 'word': 1, 'horse': 1}\n"
          ]
        }
      ]
    },
    {
      "cell_type": "markdown",
      "source": [
        "Set- 집합 자료형\n",
        "- 순서, 중복 허용하지 않음\n",
        "- 선언 : {}, set()\n",
        "- 인덱싱, 슬라이싱 불가"
      ],
      "metadata": {
        "id": "JrlzkmrTlpR2"
      }
    },
    {
      "cell_type": "code",
      "source": [
        "tmpSet = {1, 2, 3, 4, 'jslim', 5, 1, 2, 3, 4, 5}\n",
        "print('type - ', type(tmpSet))\n",
        "print('data - ', tmpSet)"
      ],
      "metadata": {
        "colab": {
          "base_uri": "https://localhost:8080/"
        },
        "id": "wSBr_fCilKd2",
        "outputId": "ae2f63d8-2a95-4d17-8298-d8676d82af5d"
      },
      "execution_count": null,
      "outputs": [
        {
          "output_type": "stream",
          "name": "stdout",
          "text": [
            "type -  <class 'set'>\n",
            "data -  {1, 'jslim', 3, 2, 4, 5}\n"
          ]
        }
      ]
    },
    {
      "cell_type": "code",
      "source": [
        "print('case03 -')\n",
        "result.clear()\n",
        "result = dict(zip(set(wordLst), [wordLst.count(word)for word in set(wordLst)]))\n",
        "print(result)"
      ],
      "metadata": {
        "colab": {
          "base_uri": "https://localhost:8080/"
        },
        "id": "mRZP8OVOouxh",
        "outputId": "b1edddd0-ffd4-4fae-8a63-638dd5960527"
      },
      "execution_count": null,
      "outputs": [
        {
          "output_type": "stream",
          "name": "stdout",
          "text": [
            "case03 -\n",
            "{'word': 1, 'horse': 1, 'love': 2, 'cat': 2, 'dog': 3}\n"
          ]
        }
      ]
    },
    {
      "cell_type": "code",
      "source": [
        "print('case04 - ')\n",
        "for word in list(set(wordLst)) :\n",
        "  result.update({word : wordLst.count(word)})\n",
        "print(result)"
      ],
      "metadata": {
        "colab": {
          "base_uri": "https://localhost:8080/"
        },
        "id": "eFUzi5oVtCuv",
        "outputId": "724f7a1e-ffd9-4d5d-f521-1d34be9c68b4"
      },
      "execution_count": null,
      "outputs": [
        {
          "output_type": "stream",
          "name": "stdout",
          "text": [
            "case04 - \n",
            "{'word': 1, 'horse': 1, 'love': 2, 'cat': 2, 'dog': 3}\n"
          ]
        }
      ]
    },
    {
      "cell_type": "code",
      "source": [
        "tmpSet = set([1,2,3,4,1,2,3,4])\n",
        "print('type - ', type(tmpSet))\n",
        "print('data - ', tmpSet)\n",
        "print('in - ', 2 in tmpSet)\n",
        "#error\n",
        "#print('indexing - ', tmpSet[0])\n",
        "#set -> tuple\n",
        "tmpTuple = tuple(tmpSet)\n",
        "print('type - ', type(tmpTuple))\n",
        "print('indexing - ', tmpTuple[0])"
      ],
      "metadata": {
        "colab": {
          "base_uri": "https://localhost:8080/"
        },
        "id": "RxsYCSdkvykW",
        "outputId": "8064d1a7-384d-49e4-c34f-0260491a713e"
      },
      "execution_count": null,
      "outputs": [
        {
          "output_type": "stream",
          "name": "stdout",
          "text": [
            "type -  <class 'set'>\n",
            "data -  {1, 2, 3, 4}\n",
            "in -  True\n",
            "type -  <class 'tuple'>\n",
            "indexing -  1\n"
          ]
        }
      ]
    },
    {
      "cell_type": "code",
      "source": [
        "set = {1,2,3}\n",
        "del set\n",
        "del print\n",
        "new_set = set([4,5,6])\n",
        "\n",
        "print(new_set)"
      ],
      "metadata": {
        "colab": {
          "base_uri": "https://localhost:8080/"
        },
        "id": "dn3_WLbP4hMY",
        "outputId": "e56677aa-529f-4d04-9b55-0ee21387f9d8"
      },
      "execution_count": null,
      "outputs": [
        {
          "output_type": "stream",
          "name": "stdout",
          "text": [
            "{4, 5, 6}\n"
          ]
        }
      ]
    },
    {
      "cell_type": "code",
      "source": [
        "# Quiz\n",
        "# 중복을 제거하여 성별을 조회하시오\n",
        "gender = ['남자', '여자', '남자', '남자', '여자', '여자', '남자']\n",
        "print(list(set(gender)))"
      ],
      "metadata": {
        "colab": {
          "base_uri": "https://localhost:8080/"
        },
        "id": "jqkeDW3Tx_Bm",
        "outputId": "36619b28-daa5-4ea4-efaf-fa63189bac7c"
      },
      "execution_count": null,
      "outputs": [
        {
          "output_type": "stream",
          "name": "stdout",
          "text": [
            "['여자', '남자']\n"
          ]
        }
      ]
    },
    {
      "cell_type": "code",
      "source": [
        "#교집합(intersection), 합집합(union), 차집합(difference)\n",
        "set01 = set([1, 2, 3, 4, 5])\n",
        "set02 = set ([3, 4, 5, 6, 7])\n",
        "print('intersection - ', set01.intersection(set02) , set01 & set02)\n",
        "print('union - ', set01.union(set02), set01 | set02)\n",
        "print('difference - ', set01.difference(set02), set01 - set02)"
      ],
      "metadata": {
        "colab": {
          "base_uri": "https://localhost:8080/"
        },
        "id": "87eyPeGHyIGx",
        "outputId": "8409ebc6-2a48-490b-d073-42ddb41b8075"
      },
      "execution_count": null,
      "outputs": [
        {
          "output_type": "stream",
          "name": "stdout",
          "text": [
            "intersection -  {3, 4, 5} {3, 4, 5}\n",
            "union -  {1, 2, 3, 4, 5, 6, 7} {1, 2, 3, 4, 5, 6, 7}\n",
            "difference -  {1, 2} {1, 2}\n"
          ]
        }
      ]
    },
    {
      "cell_type": "code",
      "source": [
        "# set 타입의 변수에 새로운 데이터 추가 가능할까요?\n",
        "set02.add(8)\n",
        "print('add - ', set02)"
      ],
      "metadata": {
        "colab": {
          "base_uri": "https://localhost:8080/"
        },
        "id": "jG5C8fETzQ1W",
        "outputId": "460c2afa-49d7-4573-eb5f-81cbc7b7a9c3"
      },
      "execution_count": null,
      "outputs": [
        {
          "output_type": "stream",
          "name": "stdout",
          "text": [
            "add -  {3, 4, 5, 6, 7, 8}\n"
          ]
        }
      ]
    },
    {
      "cell_type": "code",
      "source": [
        "# 삭제 가능할까요?\n",
        "set02.remove(8)\n",
        "print('remove - ', set02)"
      ],
      "metadata": {
        "colab": {
          "base_uri": "https://localhost:8080/"
        },
        "id": "Fn1uc45L0ONN",
        "outputId": "ec7fa48d-21b3-423d-9a97-6d610ad2c1e7"
      },
      "execution_count": null,
      "outputs": [
        {
          "output_type": "stream",
          "name": "stdout",
          "text": [
            "remove -  {3, 4, 5, 6, 7}\n"
          ]
        }
      ]
    },
    {
      "cell_type": "code",
      "source": [
        "# Quiz\n",
        "# 단어의 빈도수를 구한다면?\n",
        "# 출력예시) {'love' : 2, ~~}\n",
        "\n",
        "wordLst = ['love', 'dog', 'cat', 'love', 'word', 'horse', 'dog', 'dog', 'cat']\n",
        "result = {}\n",
        "\n",
        "print('case05 -')\n",
        "result.clear()\n",
        "wordSet = set(wordLst)\n",
        "for word in wordSet :\n",
        "  cnt = 0\n",
        "  for idx in range(len(wordLst)) :\n",
        "    if wordLst[idx] == word :\n",
        "      cnt += 1\n",
        "    result[word] = cnt\n",
        "  print(result)"
      ],
      "metadata": {
        "colab": {
          "base_uri": "https://localhost:8080/"
        },
        "id": "D7EOim7a1SlR",
        "outputId": "3d6067d1-9730-4eac-ba0a-72e4da1d49a0"
      },
      "execution_count": null,
      "outputs": [
        {
          "output_type": "stream",
          "name": "stdout",
          "text": [
            "case05 -\n",
            "{'word': 1}\n",
            "{'word': 1, 'horse': 1}\n",
            "{'word': 1, 'horse': 1, 'love': 2}\n",
            "{'word': 1, 'horse': 1, 'love': 2, 'cat': 2}\n",
            "{'word': 1, 'horse': 1, 'love': 2, 'cat': 2, 'dog': 3}\n"
          ]
        }
      ]
    },
    {
      "cell_type": "code",
      "source": [],
      "metadata": {
        "id": "wgEBgbaK6psN"
      },
      "execution_count": null,
      "outputs": []
    }
  ]
}