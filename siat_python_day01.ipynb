{
  "nbformat": 4,
  "nbformat_minor": 0,
  "metadata": {
    "colab": {
      "provenance": [],
      "authorship_tag": "ABX9TyMT4DF+swg4arF6q89toQ3x",
      "include_colab_link": true
    },
    "kernelspec": {
      "name": "python3",
      "display_name": "Python 3"
    },
    "language_info": {
      "name": "python"
    }
  },
  "cells": [
    {
      "cell_type": "markdown",
      "metadata": {
        "id": "view-in-github",
        "colab_type": "text"
      },
      "source": [
        "<a href=\"https://colab.research.google.com/github/hannahzzang1/python/blob/main/siat_python_day01.ipynb\" target=\"_parent\"><img src=\"https://colab.research.google.com/assets/colab-badge.svg\" alt=\"Open In Colab\"/></a>"
      ]
    },
    {
      "cell_type": "code",
      "execution_count": null,
      "metadata": {
        "colab": {
          "base_uri": "https://localhost:8080/"
        },
        "id": "Ukon3im0b1yt",
        "outputId": "424c2037-5514-44ac-fb83-d5c4f38e2b79"
      },
      "outputs": [
        {
          "output_type": "stream",
          "name": "stdout",
          "text": [
            "당신의 이름은 =  jsiim\n",
            "당신의 나이는 =  20\n",
            "결혼여부 =  True\n"
          ]
        },
        {
          "output_type": "execute_result",
          "data": {
            "text/plain": [
              "(None, bool)"
            ]
          },
          "metadata": {},
          "execution_count": 13
        }
      ],
      "source": [
        "from typing_extensions import AsyncGenerator\n",
        "# 주석\n",
        "\n",
        "name = \"jsiim\"\n",
        "print(\"당신의 이름은 = \", name), type (name)\n",
        "\n",
        "age= 20\n",
        "print(\"당신의 나이는 = \", age), type (age)\n",
        "\n",
        "isMarriage = True\n",
        "print(\"결혼여부 = \", isMarriage), type (isMarriage)\n"
      ]
    },
    {
      "cell_type": "code",
      "source": [
        "\"\"\"\n",
        "#python built-in Types\n",
        "- Numerice\n",
        "- Sequence\n",
        "- Text sequence\n",
        "- Set\n",
        "- Mapping\n",
        "- Bool\n",
        "\"\"\"\n",
        "\n",
        "# 다양한 변수의 선언\n",
        "\"\"\"\n",
        "Camel Case - numberOfCollage\n",
        "snake Case - number_of_collage\n",
        "Paskal Case - NumberOfCollage (class)\n",
        "\"\"\"\n",
        "#변수선언법(숫자로 시작할 수 없고 특수문자는 _만 허용한다)\n",
        "# 123_age = 123\n",
        "person = 'jslim'\n",
        "\n",
        "#예약어()는 변수명, 또는 함수명으로 사용 불가\n",
        "\n"
      ],
      "metadata": {
        "id": "B2mCdAtssbUN"
      },
      "execution_count": null,
      "outputs": []
    },
    {
      "cell_type": "code",
      "source": [
        "#변수선언법(숫자로 시작할 수 없고 특수문자는 _만 허용한다)\n",
        "# 123_age = 123\n",
        "person = 'jslim'"
      ],
      "metadata": {
        "id": "ECuAixrM4P68"
      },
      "execution_count": null,
      "outputs": []
    },
    {
      "cell_type": "code",
      "source": [
        "sec = 5000\n",
        "stockTotal = sec * 10\n",
        "print(stockTotal)"
      ],
      "metadata": {
        "colab": {
          "base_uri": "https://localhost:8080/"
        },
        "id": "dz7KV8OU2ltW",
        "outputId": "8179c3f4-9fa3-4ea7-ccc3-158d8ecbc050"
      },
      "execution_count": null,
      "outputs": [
        {
          "output_type": "stream",
          "name": "stdout",
          "text": [
            "50000\n"
          ]
        }
      ]
    },
    {
      "cell_type": "code",
      "source": [
        "# 문자열 변수\n",
        "str01 = \"siat\"\n",
        "str02 = \"python\"\n",
        "print(str01 , str02 , sep=\"-\")\n",
        "print('010', '1234', '5678' , sep= '_')\n",
        "print('jslim9413', 'naver.com', sep= \"@\")"
      ],
      "metadata": {
        "colab": {
          "base_uri": "https://localhost:8080/"
        },
        "id": "77EWqs9E37s-",
        "outputId": "83810c46-8e58-43d9-d9e0-c8c7e5288fde"
      },
      "execution_count": null,
      "outputs": [
        {
          "output_type": "stream",
          "name": "stdout",
          "text": [
            "siat-python\n",
            "010_1234_5678\n",
            "jslim9413@naver.com\n"
          ]
        }
      ]
    },
    {
      "cell_type": "code",
      "source": [
        "import keyword\n",
        "print(keyword.kwlist)\n",
        "\n",
        "lst = keyword.kwlist\n",
        "print('type - ' , type(lst))"
      ],
      "metadata": {
        "colab": {
          "base_uri": "https://localhost:8080/"
        },
        "id": "l-w3L9-8PKuR",
        "outputId": "578e4bc5-654c-41d1-9a0a-ec79fff24c0e"
      },
      "execution_count": null,
      "outputs": [
        {
          "output_type": "stream",
          "name": "stdout",
          "text": [
            "['False', 'None', 'True', 'and', 'as', 'assert', 'async', 'await', 'break', 'class', 'continue', 'def', 'del', 'elif', 'else', 'except', 'finally', 'for', 'from', 'global', 'if', 'import', 'in', 'is', 'lambda', 'nonlocal', 'not', 'or', 'pass', 'raise', 'return', 'try', 'while', 'with', 'yield']\n",
            "type -  <class 'list'>\n"
          ]
        }
      ]
    },
    {
      "cell_type": "code",
      "source": [
        "# Sequence - list type\n",
        "# indexing , slicing\n",
        "# [], [ first idx : last idx - 1 ]\n",
        "print('indexing - ' , lst[0])\n",
        "print ('slicing - ', lst [0 : 5])"
      ],
      "metadata": {
        "colab": {
          "base_uri": "https://localhost:8080/"
        },
        "id": "MWmX3DcISppT",
        "outputId": "2f254ac5-9c08-4cbd-8903-ea7bf4e90998"
      },
      "execution_count": null,
      "outputs": [
        {
          "output_type": "stream",
          "name": "stdout",
          "text": [
            "indexing -  False\n",
            "slicing -  ['False', 'None', 'True', 'and', 'as']\n"
          ]
        }
      ]
    },
    {
      "cell_type": "code",
      "source": [
        "# Mapping (key, value)\n",
        "# dict\n",
        "#{}\n",
        "siatDict = {\n",
        "    \"name\" : \"python\",\n",
        "    \"version\" : 2.0\n",
        "}\n",
        "print('dict type - ' , type(siatDict))"
      ],
      "metadata": {
        "colab": {
          "base_uri": "https://localhost:8080/"
        },
        "id": "wZBrVAOdU8Hg",
        "outputId": "163f2786-7b0c-4244-ade0-b75bb010f985"
      },
      "execution_count": null,
      "outputs": [
        {
          "output_type": "stream",
          "name": "stdout",
          "text": [
            "dict type -  <class 'dict'>\n"
          ]
        }
      ]
    },
    {
      "cell_type": "code",
      "source": [
        "# Mapping (key, value)\n",
        "# dict\n",
        "# {}\n",
        "siatDict = {\n",
        "    \"name\"    : \"python\",\n",
        "    \"version\" : 2.0\n",
        "}\n",
        "print('dict type - ' , type(siatDict))\n",
        "print('data - ', siatDict)\n",
        "print('data - ', siatDict[\"name\"])"
      ],
      "metadata": {
        "colab": {
          "base_uri": "https://localhost:8080/"
        },
        "id": "iAl4LCGRWuXh",
        "outputId": "916c5296-1e74-4642-87d7-225234665a9f"
      },
      "execution_count": null,
      "outputs": [
        {
          "output_type": "stream",
          "name": "stdout",
          "text": [
            "dict type -  <class 'dict'>\n",
            "data -  {'name': 'python', 'version': 2.0}\n",
            "data -  python\n"
          ]
        }
      ]
    },
    {
      "cell_type": "code",
      "source": [
        "# Sequence - tuple type\n",
        "# ()\n",
        "siatTuple = (3, 1, 8, 4, 7)\n",
        "print('tuple type - ' , type(siatTuple))\n",
        "print('data - ' , siatTuple)\n",
        "print ('indxing - ' , siatTuple[0])\n",
        "print ('slicing - ' , siatTuple[0 : 3])"
      ],
      "metadata": {
        "colab": {
          "base_uri": "https://localhost:8080/"
        },
        "id": "SusAvxI_dR9W",
        "outputId": "81d9b6f1-0c73-4f60-dd48-9ba46ee68abc"
      },
      "execution_count": null,
      "outputs": [
        {
          "output_type": "stream",
          "name": "stdout",
          "text": [
            "tuple type -  <class 'tuple'>\n",
            "data -  (3, 1, 8, 4, 7)\n",
            "indxing -  3\n",
            "slicing -  (3, 1, 8)\n"
          ]
        }
      ]
    },
    {
      "cell_type": "code",
      "source": [
        "# Text Sequence - String\n",
        "siatTxt = \"Talk is cheap. show me the code\"\n",
        "print(siatTxt)\n",
        "print(siatTxt , type(siatTxt))\n",
        "\n",
        "\n",
        "#Quize\n",
        "# 마지막 문자를 추출하여 출력하시오\n",
        "print('indexing - ' ,  siatTxt[-1])\n",
        "print('slicing - ' , siatTxt[-4 : ])\n",
        "\n",
        "txtLst = siatTxt.split ()\n",
        "print('data - ' , txtLst[-1])\n",
        "\n",
        "# len()\n",
        "print('length - ' , len(siatTxt))"
      ],
      "metadata": {
        "colab": {
          "base_uri": "https://localhost:8080/"
        },
        "id": "FSsK9WXtbdZf",
        "outputId": "c5866d37-91e7-4159-e265-8c1a5c32fb94"
      },
      "execution_count": null,
      "outputs": [
        {
          "output_type": "stream",
          "name": "stdout",
          "text": [
            "Talk is cheap. show me the code\n",
            "Talk is cheap. show me the code <class 'str'>\n",
            "indexing -  e\n",
            "slicing -  code\n",
            "data -  code\n",
            "length -  31\n"
          ]
        }
      ]
    },
    {
      "cell_type": "code",
      "source": [
        "# [ first idx : last idx - 1 : step]\n",
        "# 홀수만 출력한다면?\n",
        "exStr = \"홀짝홀짝홀짝홀짝홀짝홀짝홀짝홀짝\"\n",
        "print('홀 - ' , exStr[::2])\n",
        "print('짝 - ' , exStr[1::2])"
      ],
      "metadata": {
        "colab": {
          "base_uri": "https://localhost:8080/"
        },
        "id": "b855j8Daj_Zb",
        "outputId": "59fc0845-dc06-4dff-f1fd-529900334bf0"
      },
      "execution_count": null,
      "outputs": [
        {
          "output_type": "stream",
          "name": "stdout",
          "text": [
            "홀 -  홀홀홀홀홀홀홀홀\n",
            "짝 -  짝짝짝짝짝짝짝짝\n"
          ]
        }
      ]
    }
  ]
}